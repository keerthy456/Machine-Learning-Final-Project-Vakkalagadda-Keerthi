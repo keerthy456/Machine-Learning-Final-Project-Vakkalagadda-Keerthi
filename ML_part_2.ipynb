{
  "nbformat": 4,
  "nbformat_minor": 0,
  "metadata": {
    "colab": {
      "name": "ML-part- 2.ipynb",
      "provenance": [],
      "collapsed_sections": []
    },
    "kernelspec": {
      "name": "python3",
      "display_name": "Python 3"
    },
    "language_info": {
      "name": "python"
    }
  },
  "cells": [
    {
      "cell_type": "markdown",
      "source": [
        "# **Data Preparation**"
      ],
      "metadata": {
        "id": "4GxOCuWOp_xh"
      }
    },
    {
      "cell_type": "code",
      "execution_count": 1,
      "metadata": {
        "colab": {
          "base_uri": "https://localhost:8080/"
        },
        "id": "AcpaFkUZp7WU",
        "outputId": "fc93ae4a-afaf-48e4-d5ab-8b19b42250ed"
      },
      "outputs": [
        {
          "output_type": "stream",
          "name": "stdout",
          "text": [
            "--2022-05-06 04:10:42--  https://raw.githubusercontent.com/keerthy456/Machine-Learning-Final-Project-Vakkalagadda-Keerthi/main/heart_disease.csv\n",
            "Resolving raw.githubusercontent.com (raw.githubusercontent.com)... 185.199.111.133, 185.199.109.133, 185.199.110.133, ...\n",
            "Connecting to raw.githubusercontent.com (raw.githubusercontent.com)|185.199.111.133|:443... connected.\n",
            "HTTP request sent, awaiting response... 200 OK\n",
            "Length: 25189554 (24M) [text/plain]\n",
            "Saving to: ‘heart_disease.csv.2’\n",
            "\n",
            "heart_disease.csv.2 100%[===================>]  24.02M   118MB/s    in 0.2s    \n",
            "\n",
            "2022-05-06 04:10:44 (118 MB/s) - ‘heart_disease.csv.2’ saved [25189554/25189554]\n",
            "\n"
          ]
        }
      ],
      "source": [
        "!wget https://raw.githubusercontent.com/keerthy456/Machine-Learning-Final-Project-Vakkalagadda-Keerthi/main/heart_disease.csv"
      ]
    },
    {
      "cell_type": "code",
      "source": [
        "import numpy as np\n",
        "import pandas as pd\n",
        "from sklearn.preprocessing import LabelEncoder\n",
        "from sklearn.model_selection import train_test_split \n",
        "\n",
        "\n",
        "%matplotlib inline\n",
        "import matplotlib.pyplot as plt\n",
        "import seaborn as sns\n",
        "import plotly.express as px\n",
        "import plotly.graph_objects as go\n",
        "from plotly.subplots import make_subplots\n",
        "from sklearn.metrics import confusion_matrix\n",
        "\n",
        "\n",
        "from sklearn.linear_model import LinearRegression ,LogisticRegression\n",
        "from sklearn.tree import DecisionTreeClassifier\n"
      ],
      "metadata": {
        "id": "ioNoO-bOrEsr"
      },
      "execution_count": 3,
      "outputs": []
    },
    {
      "cell_type": "code",
      "source": [
        "heart_df = pd.read_csv('heart_disease.csv')"
      ],
      "metadata": {
        "id": "WU4VACKBrN67"
      },
      "execution_count": 4,
      "outputs": []
    },
    {
      "cell_type": "code",
      "source": [
        "plt.figure(figsize = (5,5))\n",
        "sns.countplot(x = heart_df['HeartDisease'], hue = 'HeartDisease', data = heart_df)"
      ],
      "metadata": {
        "colab": {
          "base_uri": "https://localhost:8080/",
          "height": 351
        },
        "id": "8JsqbqtzrgWF",
        "outputId": "fd9fdfcd-33a8-4c58-ae36-8e30973bcce1"
      },
      "execution_count": 5,
      "outputs": [
        {
          "output_type": "execute_result",
          "data": {
            "text/plain": [
              "<AxesSubplot:xlabel='HeartDisease', ylabel='count'>"
            ]
          },
          "metadata": {},
          "execution_count": 5
        },
        {
          "output_type": "display_data",
          "data": {
            "text/plain": [
              "<Figure size 360x360 with 1 Axes>"
            ],
            "image/png": "[encoded data removed]"
          },
          "metadata": {
            "needs_background": "light"
          }
        }
      ]
    },
    {
      "cell_type": "markdown",
      "source": [
        "Sampling Dataset"
      ],
      "metadata": {
        "id": "-ab9r3ad6yTo"
      }
    },
    {
      "cell_type": "code",
      "source": [
        "class_no = heart_df[heart_df['HeartDisease'] == 'No']\n",
        "class_yes = heart_df[heart_df['HeartDisease'] == 'Yes']"
      ],
      "metadata": {
        "id": "z1SZgtD1GdXB"
      },
      "execution_count": 6,
      "outputs": []
    },
    {
      "cell_type": "code",
      "source": [
        "len(class_no)"
      ],
      "metadata": {
        "colab": {
          "base_uri": "https://localhost:8080/"
        },
        "id": "mrMgpGX5CqCf",
        "outputId": "84420650-56f5-4a4c-8598-871a0ca7aec5"
      },
      "execution_count": 130,
      "outputs": [
        {
          "output_type": "execute_result",
          "data": {
            "text/plain": [
              "292422"
            ]
          },
          "metadata": {},
          "execution_count": 130
        }
      ]
    },
    {
      "cell_type": "code",
      "source": [
        "class_no = class_no.sample(len(class_yes),replace=False)\n",
        "new_df = pd.concat([class_no, class_yes], axis=0)\n",
        "print('Target class Distibution after Sampling in :')\n",
        "print(new_df['HeartDisease'].value_counts())\n",
        "heart_df = new_df.copy()"
      ],
      "metadata": {
        "colab": {
          "base_uri": "https://localhost:8080/"
        },
        "id": "9-Z3BML7RA1y",
        "outputId": "0662e03c-3967-41ae-f207-3c1d25313432"
      },
      "execution_count": 7,
      "outputs": [
        {
          "output_type": "stream",
          "name": "stdout",
          "text": [
            "Target class Distibution after Sampling in :\n",
            "No     27373\n",
            "Yes    27373\n",
            "Name: HeartDisease, dtype: int64\n"
          ]
        }
      ]
    },
    {
      "cell_type": "code",
      "source": [
        "plt.figure(figsize = (5,5))\n",
        "sns.countplot(x = new_df['HeartDisease'], hue = 'HeartDisease', data = new_df)"
      ],
      "metadata": {
        "colab": {
          "base_uri": "https://localhost:8080/",
          "height": 351
        },
        "id": "Od-6bv5AT98Z",
        "outputId": "31cd5836-d1d8-4841-c6b4-f5e19eb4c409"
      },
      "execution_count": 172,
      "outputs": [
        {
          "output_type": "execute_result",
          "data": {
            "text/plain": [
              "<matplotlib.axes._subplots.AxesSubplot at 0x7f5f6befde90>"
            ]
          },
          "metadata": {},
          "execution_count": 172
        },
        {
          "output_type": "display_data",
          "data": {
            "text/plain": [
              "<Figure size 360x360 with 1 Axes>"
            ],
            "image/png": "[encoded data removed]"
          },
          "metadata": {
            "needs_background": "light"
          }
        }
      ]
    },
    {
      "cell_type": "code",
      "source": [
        "pip install dython"
      ],
      "metadata": {
        "colab": {
          "base_uri": "https://localhost:8080/"
        },
        "id": "BKVl7cuSZMRE",
        "outputId": "3bce5642-ced8-4657-d911-0d28402b1026"
      },
      "execution_count": 210,
      "outputs": [
        {
          "output_type": "stream",
          "name": "stdout",
          "text": [
            "Requirement already satisfied: dython in /usr/local/lib/python3.7/dist-packages (0.7.1.post3)\n",
            "Requirement already satisfied: pandas>=1.3.2 in /usr/local/lib/python3.7/dist-packages (from dython) (1.3.5)\n",
            "Requirement already satisfied: scipy>=1.7.1 in /usr/local/lib/python3.7/dist-packages (from dython) (1.7.3)\n",
            "Requirement already satisfied: matplotlib>=3.4.3 in /usr/local/lib/python3.7/dist-packages (from dython) (3.5.2)\n",
            "Requirement already satisfied: scikit-plot>=0.3.7 in /usr/local/lib/python3.7/dist-packages (from dython) (0.3.7)\n",
            "Requirement already satisfied: seaborn>=0.11.0 in /usr/local/lib/python3.7/dist-packages (from dython) (0.11.2)\n",
            "Requirement already satisfied: scikit-learn>=0.24.2 in /usr/local/lib/python3.7/dist-packages (from dython) (1.0.2)\n",
            "Requirement already satisfied: numpy>=1.19.5 in /usr/local/lib/python3.7/dist-packages (from dython) (1.21.6)\n",
            "Requirement already satisfied: python-dateutil>=2.7 in /usr/local/lib/python3.7/dist-packages (from matplotlib>=3.4.3->dython) (2.8.2)\n",
            "Requirement already satisfied: cycler>=0.10 in /usr/local/lib/python3.7/dist-packages (from matplotlib>=3.4.3->dython) (0.11.0)\n",
            "Requirement already satisfied: pyparsing>=2.2.1 in /usr/local/lib/python3.7/dist-packages (from matplotlib>=3.4.3->dython) (3.0.8)\n",
            "Requirement already satisfied: pillow>=6.2.0 in /usr/local/lib/python3.7/dist-packages (from matplotlib>=3.4.3->dython) (7.1.2)\n",
            "Requirement already satisfied: kiwisolver>=1.0.1 in /usr/local/lib/python3.7/dist-packages (from matplotlib>=3.4.3->dython) (1.4.2)\n",
            "Requirement already satisfied: fonttools>=4.22.0 in /usr/local/lib/python3.7/dist-packages (from matplotlib>=3.4.3->dython) (4.33.3)\n",
            "Requirement already satisfied: packaging>=20.0 in /usr/local/lib/python3.7/dist-packages (from matplotlib>=3.4.3->dython) (21.3)\n",
            "Requirement already satisfied: typing-extensions in /usr/local/lib/python3.7/dist-packages (from kiwisolver>=1.0.1->matplotlib>=3.4.3->dython) (4.2.0)\n",
            "Requirement already satisfied: pytz>=2017.3 in /usr/local/lib/python3.7/dist-packages (from pandas>=1.3.2->dython) (2022.1)\n",
            "Requirement already satisfied: six>=1.5 in /usr/local/lib/python3.7/dist-packages (from python-dateutil>=2.7->matplotlib>=3.4.3->dython) (1.15.0)\n",
            "Requirement already satisfied: threadpoolctl>=2.0.0 in /usr/local/lib/python3.7/dist-packages (from scikit-learn>=0.24.2->dython) (3.1.0)\n",
            "Requirement already satisfied: joblib>=0.11 in /usr/local/lib/python3.7/dist-packages (from scikit-learn>=0.24.2->dython) (1.1.0)\n"
          ]
        }
      ]
    },
    {
      "cell_type": "code",
      "source": [
        "from dython.nominal import associations\n",
        "associations(heart_df, figsize=(15,15))"
      ],
      "metadata": {
        "colab": {
          "base_uri": "https://localhost:8080/",
          "height": 1000
        },
        "id": "7IfatdfrZESd",
        "outputId": "5417075e-5001-4280-effd-eed297db4d96"
      },
      "execution_count": 215,
      "outputs": [
        {
          "output_type": "display_data",
          "data": {
            "text/plain": [
              "<Figure size 1080x1080 with 2 Axes>"
            ],
            "image/png": "[encoded data removed]"
          },
          "metadata": {
            "needs_background": "light"
          }
        },
        {
          "output_type": "execute_result",
          "data": {
            "text/plain": [
              "{'ax': <matplotlib.axes._subplots.AxesSubplot at 0x7f5f6b3c2c50>,\n",
              " 'corr':                   HeartDisease       BMI   Smoking  AlcoholDrinking    Stroke  \\\n",
              " HeartDisease          1.000000  0.086123  0.186801         0.062757  0.226331   \n",
              " BMI                   0.086123  1.000000  0.011327         0.035059  0.019529   \n",
              " Smoking               0.186801  0.011327  1.000000         0.083308  0.074551   \n",
              " AlcoholDrinking       0.062757  0.035059  0.083308         1.000000  0.019428   \n",
              " Stroke                0.226331  0.019529  0.074551         0.019428  1.000000   \n",
              " PhysicalHealth        0.241695  0.119827  0.124253         0.024145  0.170454   \n",
              " MentalHealth          0.047635  0.076881  0.083622         0.038517  0.073347   \n",
              " DiffWalking           0.287334  0.197973  0.128690         0.042537  0.205807   \n",
              " Sex                   0.123744  0.019856  0.111418         0.005145  0.000000   \n",
              " AgeCategory           0.440379  0.186255  0.165518         0.090602  0.142291   \n",
              " Race                  0.103719  0.105677  0.115258         0.028900  0.053166   \n",
              " Diabetic              0.264801  0.234813  0.077663         0.073200  0.127895   \n",
              " PhysicalActivity      0.163729  0.162181  0.104091         0.015783  0.107127   \n",
              " GenHealth             0.398104  0.218810  0.200787         0.042866  0.225291   \n",
              " SleepTime             0.014021 -0.043605  0.023065         0.002619  0.008698   \n",
              " Asthma                0.072932  0.110901  0.030711         0.009336  0.059150   \n",
              " KidneyDisease         0.181635  0.072841  0.034510         0.036570  0.110558   \n",
              " SkinCancer            0.143247  0.040863  0.027861         0.010678  0.046826   \n",
              " \n",
              "                   PhysicalHealth  MentalHealth  DiffWalking       Sex  \\\n",
              " HeartDisease            0.241695      0.047635     0.287334  0.123744   \n",
              " BMI                     0.119827      0.076881     0.197973  0.019856   \n",
              " Smoking                 0.124253      0.083622     0.128690  0.111418   \n",
              " AlcoholDrinking         0.024145      0.038517     0.042537  0.005145   \n",
              " Stroke                  0.170454      0.073347     0.205807  0.000000   \n",
              " PhysicalHealth          1.000000      0.324227     0.453900  0.042898   \n",
              " MentalHealth            0.324227      1.000000     0.194129  0.110779   \n",
              " DiffWalking             0.453900      0.194129     1.000000  0.081818   \n",
              " Sex                     0.042898      0.110779     0.081818  1.000000   \n",
              " AgeCategory             0.143431      0.157536     0.253090  0.057654   \n",
              " Race                    0.056797      0.061992     0.075858  0.067554   \n",
              " Diabetic                0.192377      0.054333     0.248460  0.091042   \n",
              " PhysicalActivity        0.276534      0.126524     0.325859  0.063045   \n",
              " GenHealth               0.640061      0.298198     0.496175  0.029681   \n",
              " SleepTime              -0.070978     -0.126860     0.033283  0.005607   \n",
              " Asthma                  0.142356      0.123548     0.144099  0.087855   \n",
              " KidneyDisease           0.176063      0.057116     0.190639  0.009989   \n",
              " SkinCancer              0.040202      0.032021     0.063370  0.056208   \n",
              " \n",
              "                   AgeCategory      Race  Diabetic  PhysicalActivity  \\\n",
              " HeartDisease         0.440379  0.103719  0.264801          0.163729   \n",
              " BMI                  0.186255  0.105677  0.234813          0.162181   \n",
              " Smoking              0.165518  0.115258  0.077663          0.104091   \n",
              " AlcoholDrinking      0.090602  0.028900  0.073200          0.015783   \n",
              " Stroke               0.142291  0.053166  0.127895          0.107127   \n",
              " PhysicalHealth       0.143431  0.056797  0.192377          0.276534   \n",
              " MentalHealth         0.157536  0.061992  0.054333          0.126524   \n",
              " DiffWalking          0.253090  0.075858  0.248460          0.325859   \n",
              " Sex                  0.057654  0.067554  0.091042          0.063045   \n",
              " AgeCategory          1.000000  0.106135  0.137154          0.144289   \n",
              " Race                 0.106135  1.000000  0.045507          0.056471   \n",
              " Diabetic             0.137154  0.045507  1.000000          0.171012   \n",
              " PhysicalActivity     0.144289  0.056471  0.171012          1.000000   \n",
              " GenHealth            0.128188  0.056113  0.181264          0.330934   \n",
              " SleepTime            0.157892  0.053026  0.017061          0.006354   \n",
              " Asthma               0.065954  0.060598  0.072943          0.069547   \n",
              " KidneyDisease        0.138081  0.033205  0.192191          0.114242   \n",
              " SkinCancer           0.280373  0.160454  0.035720          0.000000   \n",
              " \n",
              "                   GenHealth  SleepTime    Asthma  KidneyDisease  SkinCancer  \n",
              " HeartDisease       0.398104   0.014021  0.072932       0.181635    0.143247  \n",
              " BMI                0.218810  -0.043605  0.110901       0.072841    0.040863  \n",
              " Smoking            0.200787   0.023065  0.030711       0.034510    0.027861  \n",
              " AlcoholDrinking    0.042866   0.002619  0.009336       0.036570    0.010678  \n",
              " Stroke             0.225291   0.008698  0.059150       0.110558    0.046826  \n",
              " PhysicalHealth     0.640061  -0.070978  0.142356       0.176063    0.040202  \n",
              " MentalHealth       0.298198  -0.126860  0.123548       0.057116    0.032021  \n",
              " DiffWalking        0.496175   0.033283  0.144099       0.190639    0.063370  \n",
              " Sex                0.029681   0.005607  0.087855       0.009989    0.056208  \n",
              " AgeCategory        0.128188   0.157892  0.065954       0.138081    0.280373  \n",
              " Race               0.056113   0.053026  0.060598       0.033205    0.160454  \n",
              " Diabetic           0.181264   0.017061  0.072943       0.192191    0.035720  \n",
              " PhysicalActivity   0.330934   0.006354  0.069547       0.114242    0.000000  \n",
              " GenHealth          1.000000   0.064136  0.173484       0.232674    0.059565  \n",
              " SleepTime          0.064136   1.000000  0.054742       0.000934    0.039736  \n",
              " Asthma             0.173484   0.054742  1.000000       0.059647    0.000000  \n",
              " KidneyDisease      0.232674   0.000934  0.059647       1.000000    0.067498  \n",
              " SkinCancer         0.059565   0.039736  0.000000       0.067498    1.000000  }"
            ]
          },
          "metadata": {},
          "execution_count": 215
        }
      ]
    },
    {
      "cell_type": "markdown",
      "source": [
        "By looking at the above coorelation matrix I believe 'Alcohol Drinking', 'Mental Health', 'Sleep Time', 'Race' doesnot seem to be highly coorelated (individually/when combined with other features as well) with 'Target Feature - Heart Disease'. So I'll be dropping them from my dataset and train the model with remaining features."
      ],
      "metadata": {
        "id": "AHuDhLkNawFb"
      }
    },
    {
      "cell_type": "code",
      "source": [
        "numeric_features = heart_df.select_dtypes(include=[np.number])"
      ],
      "metadata": {
        "id": "NXWMfHNwO_oO"
      },
      "execution_count": 8,
      "outputs": []
    },
    {
      "cell_type": "code",
      "source": [
        "categorical_features= [col for col in heart_df.columns if heart_df[col].dtypes == 'object']"
      ],
      "metadata": {
        "id": "M3diPGoOO319"
      },
      "execution_count": 134,
      "outputs": []
    },
    {
      "cell_type": "code",
      "source": [
        "heart_df.isnull().any()"
      ],
      "metadata": {
        "colab": {
          "base_uri": "https://localhost:8080/"
        },
        "id": "3Y82CkX_Fn5E",
        "outputId": "1abbd38a-13db-4287-a89a-041f66ae7216"
      },
      "execution_count": 124,
      "outputs": [
        {
          "output_type": "execute_result",
          "data": {
            "text/plain": [
              "HeartDisease        False\n",
              "BMI                 False\n",
              "Smoking             False\n",
              "AlcoholDrinking     False\n",
              "Stroke              False\n",
              "PhysicalHealth      False\n",
              "MentalHealth        False\n",
              "DiffWalking         False\n",
              "Sex                 False\n",
              "AgeCategory         False\n",
              "Race                False\n",
              "Diabetic            False\n",
              "PhysicalActivity    False\n",
              "GenHealth           False\n",
              "SleepTime           False\n",
              "Asthma              False\n",
              "KidneyDisease       False\n",
              "SkinCancer          False\n",
              "dtype: bool"
            ]
          },
          "metadata": {},
          "execution_count": 124
        }
      ]
    },
    {
      "cell_type": "code",
      "source": [
        "heart_df = heart_df.drop(columns=['AlcoholDrinking', 'SleepTime', 'MentalHealth', 'Race'])"
      ],
      "metadata": {
        "id": "j3dMhgx0buVR"
      },
      "execution_count": 9,
      "outputs": []
    },
    {
      "cell_type": "code",
      "source": [
        "heart_df['heartdisease_GenHealth'] = heart_df.groupby('GenHealth')['HeartDisease'].transform('count') \n",
        "heart_df['mean_PhysicalHealth'] = heart_df.groupby('DiffWalking')['PhysicalHealth'].transform('mean') \n",
        "heart_df['BMI_Std'] = heart_df.groupby('PhysicalActivity')['BMI'].transform('std')"
      ],
      "metadata": {
        "id": "JpYZlFRf8FYq"
      },
      "execution_count": 10,
      "outputs": []
    },
    {
      "cell_type": "code",
      "source": [
        "heart_df.groupby('GenHealth').count()"
      ],
      "metadata": {
        "colab": {
          "base_uri": "https://localhost:8080/",
          "height": 301
        },
        "id": "ACtnXpg1lnPI",
        "outputId": "5dcf65d0-c804-4a87-a0b6-bd3b56cc582b"
      },
      "execution_count": 11,
      "outputs": [
        {
          "output_type": "execute_result",
          "data": {
            "text/plain": [
              "           HeartDisease    BMI  Smoking  Stroke  PhysicalHealth  DiffWalking  \\\n",
              "GenHealth                                                                      \n",
              "Excellent          7664   7664     7664    7664            7664         7664   \n",
              "Fair               9716   9716     9716    9716            9716         9716   \n",
              "Good              17304  17304    17304   17304           17304        17304   \n",
              "Poor               4537   4537     4537    4537            4537         4537   \n",
              "Very good         15525  15525    15525   15525           15525        15525   \n",
              "\n",
              "             Sex  AgeCategory  Diabetic  PhysicalActivity  Asthma  \\\n",
              "GenHealth                                                           \n",
              "Excellent   7664         7664      7664              7664    7664   \n",
              "Fair        9716         9716      9716              9716    9716   \n",
              "Good       17304        17304     17304             17304   17304   \n",
              "Poor        4537         4537      4537              4537    4537   \n",
              "Very good  15525        15525     15525             15525   15525   \n",
              "\n",
              "           KidneyDisease  SkinCancer  heartdisease_GenHealth  \\\n",
              "GenHealth                                                      \n",
              "Excellent           7664        7664                    7664   \n",
              "Fair                9716        9716                    9716   \n",
              "Good               17304       17304                   17304   \n",
              "Poor                4537        4537                    4537   \n",
              "Very good          15525       15525                   15525   \n",
              "\n",
              "           mean_PhysicalHealth  BMI_Std  \n",
              "GenHealth                                \n",
              "Excellent                 7664     7664  \n",
              "Fair                      9716     9716  \n",
              "Good                     17304    17304  \n",
              "Poor                      4537     4537  \n",
              "Very good                15525    15525  "
            ],
            "text/html": [
              "\n",
              "  <div id=\"df-cc4698e3-65e7-49f7-9698-2d3225e4379e\">\n",
              "    <div class=\"colab-df-container\">\n",
              "      <div>\n",
              "<style scoped>\n",
              "    .dataframe tbody tr th:only-of-type {\n",
              "        vertical-align: middle;\n",
              "    }\n",
              "\n",
              "    .dataframe tbody tr th {\n",
              "        vertical-align: top;\n",
              "    }\n",
              "\n",
              "    .dataframe thead th {\n",
              "        text-align: right;\n",
              "    }\n",
              "</style>\n",
              "<table border=\"1\" class=\"dataframe\">\n",
              "  <thead>\n",
              "    <tr style=\"text-align: right;\">\n",
              "      <th></th>\n",
              "      <th>HeartDisease</th>\n",
              "      <th>BMI</th>\n",
              "      <th>Smoking</th>\n",
              "      <th>Stroke</th>\n",
              "      <th>PhysicalHealth</th>\n",
              "      <th>DiffWalking</th>\n",
              "      <th>Sex</th>\n",
              "      <th>AgeCategory</th>\n",
              "      <th>Diabetic</th>\n",
              "      <th>PhysicalActivity</th>\n",
              "      <th>Asthma</th>\n",
              "      <th>KidneyDisease</th>\n",
              "      <th>SkinCancer</th>\n",
              "      <th>heartdisease_GenHealth</th>\n",
              "      <th>mean_PhysicalHealth</th>\n",
              "      <th>BMI_Std</th>\n",
              "    </tr>\n",
              "    <tr>\n",
              "      <th>GenHealth</th>\n",
              "      <th></th>\n",
              "      <th></th>\n",
              "      <th></th>\n",
              "      <th></th>\n",
              "      <th></th>\n",
              "      <th></th>\n",
              "      <th></th>\n",
              "      <th></th>\n",
              "      <th></th>\n",
              "      <th></th>\n",
              "      <th></th>\n",
              "      <th></th>\n",
              "      <th></th>\n",
              "      <th></th>\n",
              "      <th></th>\n",
              "      <th></th>\n",
              "    </tr>\n",
              "  </thead>\n",
              "  <tbody>\n",
              "    <tr>\n",
              "      <th>Excellent</th>\n",
              "      <td>7664</td>\n",
              "      <td>7664</td>\n",
              "      <td>7664</td>\n",
              "      <td>7664</td>\n",
              "      <td>7664</td>\n",
              "      <td>7664</td>\n",
              "      <td>7664</td>\n",
              "      <td>7664</td>\n",
              "      <td>7664</td>\n",
              "      <td>7664</td>\n",
              "      <td>7664</td>\n",
              "      <td>7664</td>\n",
              "      <td>7664</td>\n",
              "      <td>7664</td>\n",
              "      <td>7664</td>\n",
              "      <td>7664</td>\n",
              "    </tr>\n",
              "    <tr>\n",
              "      <th>Fair</th>\n",
              "      <td>9716</td>\n",
              "      <td>9716</td>\n",
              "      <td>9716</td>\n",
              "      <td>9716</td>\n",
              "      <td>9716</td>\n",
              "      <td>9716</td>\n",
              "      <td>9716</td>\n",
              "      <td>9716</td>\n",
              "      <td>9716</td>\n",
              "      <td>9716</td>\n",
              "      <td>9716</td>\n",
              "      <td>9716</td>\n",
              "      <td>9716</td>\n",
              "      <td>9716</td>\n",
              "      <td>9716</td>\n",
              "      <td>9716</td>\n",
              "    </tr>\n",
              "    <tr>\n",
              "      <th>Good</th>\n",
              "      <td>17304</td>\n",
              "      <td>17304</td>\n",
              "      <td>17304</td>\n",
              "      <td>17304</td>\n",
              "      <td>17304</td>\n",
              "      <td>17304</td>\n",
              "      <td>17304</td>\n",
              "      <td>17304</td>\n",
              "      <td>17304</td>\n",
              "      <td>17304</td>\n",
              "      <td>17304</td>\n",
              "      <td>17304</td>\n",
              "      <td>17304</td>\n",
              "      <td>17304</td>\n",
              "      <td>17304</td>\n",
              "      <td>17304</td>\n",
              "    </tr>\n",
              "    <tr>\n",
              "      <th>Poor</th>\n",
              "      <td>4537</td>\n",
              "      <td>4537</td>\n",
              "      <td>4537</td>\n",
              "      <td>4537</td>\n",
              "      <td>4537</td>\n",
              "      <td>4537</td>\n",
              "      <td>4537</td>\n",
              "      <td>4537</td>\n",
              "      <td>4537</td>\n",
              "      <td>4537</td>\n",
              "      <td>4537</td>\n",
              "      <td>4537</td>\n",
              "      <td>4537</td>\n",
              "      <td>4537</td>\n",
              "      <td>4537</td>\n",
              "      <td>4537</td>\n",
              "    </tr>\n",
              "    <tr>\n",
              "      <th>Very good</th>\n",
              "      <td>15525</td>\n",
              "      <td>15525</td>\n",
              "      <td>15525</td>\n",
              "      <td>15525</td>\n",
              "      <td>15525</td>\n",
              "      <td>15525</td>\n",
              "      <td>15525</td>\n",
              "      <td>15525</td>\n",
              "      <td>15525</td>\n",
              "      <td>15525</td>\n",
              "      <td>15525</td>\n",
              "      <td>15525</td>\n",
              "      <td>15525</td>\n",
              "      <td>15525</td>\n",
              "      <td>15525</td>\n",
              "      <td>15525</td>\n",
              "    </tr>\n",
              "  </tbody>\n",
              "</table>\n",
              "</div>\n",
              "      <button class=\"colab-df-convert\" onclick=\"convertToInteractive('df-cc4698e3-65e7-49f7-9698-2d3225e4379e')\"\n",
              "              title=\"Convert this dataframe to an interactive table.\"\n",
              "              style=\"display:none;\">\n",
              "        \n",
              "  <svg xmlns=\"http://www.w3.org/2000/svg\" height=\"24px\"viewBox=\"0 0 24 24\"\n",
              "       width=\"24px\">\n",
              "    <path d=\"M0 0h24v24H0V0z\" fill=\"none\"/>\n",
              "    <path d=\"M18.56 5.44l.94 2.06.94-2.06 2.06-.94-2.06-.94-.94-2.06-.94 2.06-2.06.94zm-11 1L8.5 8.5l.94-2.06 2.06-.94-2.06-.94L8.5 2.5l-.94 2.06-2.06.94zm10 10l.94 2.06.94-2.06 2.06-.94-2.06-.94-.94-2.06-.94 2.06-2.06.94z\"/><path d=\"M17.41 7.96l-1.37-1.37c-.4-.4-.92-.59-1.43-.59-.52 0-1.04.2-1.43.59L10.3 9.45l-7.72 7.72c-.78.78-.78 2.05 0 2.83L4 21.41c.39.39.9.59 1.41.59.51 0 1.02-.2 1.41-.59l7.78-7.78 2.81-2.81c.8-.78.8-2.07 0-2.86zM5.41 20L4 18.59l7.72-7.72 1.47 1.35L5.41 20z\"/>\n",
              "  </svg>\n",
              "      </button>\n",
              "      \n",
              "  <style>\n",
              "    .colab-df-container {\n",
              "      display:flex;\n",
              "      flex-wrap:wrap;\n",
              "      gap: 12px;\n",
              "    }\n",
              "\n",
              "    .colab-df-convert {\n",
              "      background-color: #E8F0FE;\n",
              "      border: none;\n",
              "      border-radius: 50%;\n",
              "      cursor: pointer;\n",
              "      display: none;\n",
              "      fill: #1967D2;\n",
              "      height: 32px;\n",
              "      padding: 0 0 0 0;\n",
              "      width: 32px;\n",
              "    }\n",
              "\n",
              "    .colab-df-convert:hover {\n",
              "      background-color: #E2EBFA;\n",
              "      box-shadow: 0px 1px 2px rgba(60, 64, 67, 0.3), 0px 1px 3px 1px rgba(60, 64, 67, 0.15);\n",
              "      fill: #174EA6;\n",
              "    }\n",
              "\n",
              "    [theme=dark] .colab-df-convert {\n",
              "      background-color: #3B4455;\n",
              "      fill: #D2E3FC;\n",
              "    }\n",
              "\n",
              "    [theme=dark] .colab-df-convert:hover {\n",
              "      background-color: #434B5C;\n",
              "      box-shadow: 0px 1px 3px 1px rgba(0, 0, 0, 0.15);\n",
              "      filter: drop-shadow(0px 1px 2px rgba(0, 0, 0, 0.3));\n",
              "      fill: #FFFFFF;\n",
              "    }\n",
              "  </style>\n",
              "\n",
              "      <script>\n",
              "        const buttonEl =\n",
              "          document.querySelector('#df-cc4698e3-65e7-49f7-9698-2d3225e4379e button.colab-df-convert');\n",
              "        buttonEl.style.display =\n",
              "          google.colab.kernel.accessAllowed ? 'block' : 'none';\n",
              "\n",
              "        async function convertToInteractive(key) {\n",
              "          const element = document.querySelector('#df-cc4698e3-65e7-49f7-9698-2d3225e4379e');\n",
              "          const dataTable =\n",
              "            await google.colab.kernel.invokeFunction('convertToInteractive',\n",
              "                                                     [key], {});\n",
              "          if (!dataTable) return;\n",
              "\n",
              "          const docLinkHtml = 'Like what you see? Visit the ' +\n",
              "            '<a target=\"_blank\" href=https://colab.research.google.com/notebooks/data_table.ipynb>data table notebook</a>'\n",
              "            + ' to learn more about interactive tables.';\n",
              "          element.innerHTML = '';\n",
              "          dataTable['output_type'] = 'display_data';\n",
              "          await google.colab.output.renderOutput(dataTable, element);\n",
              "          const docLink = document.createElement('div');\n",
              "          docLink.innerHTML = docLinkHtml;\n",
              "          element.appendChild(docLink);\n",
              "        }\n",
              "      </script>\n",
              "    </div>\n",
              "  </div>\n",
              "  "
            ]
          },
          "metadata": {},
          "execution_count": 11
        }
      ]
    },
    {
      "cell_type": "code",
      "source": [
        "heart_df.head()"
      ],
      "metadata": {
        "colab": {
          "base_uri": "https://localhost:8080/",
          "height": 270
        },
        "id": "u4raCgykAfXi",
        "outputId": "e89faa6d-9033-409a-b73d-0d579ac8ffc0"
      },
      "execution_count": 12,
      "outputs": [
        {
          "output_type": "execute_result",
          "data": {
            "text/plain": [
              "       HeartDisease    BMI Smoking Stroke  PhysicalHealth DiffWalking     Sex  \\\n",
              "249975           No  24.96      No     No             0.0          No  Female   \n",
              "311944           No  28.19     Yes     No             0.0          No  Female   \n",
              "63414            No  23.40     Yes     No             0.0          No    Male   \n",
              "175588           No  30.52     Yes     No             0.0          No    Male   \n",
              "144586           No  28.97     Yes     No             0.0          No    Male   \n",
              "\n",
              "       AgeCategory Diabetic PhysicalActivity  GenHealth Asthma KidneyDisease  \\\n",
              "249975       65-69       No              Yes       Good     No            No   \n",
              "311944       65-69       No              Yes  Excellent     No            No   \n",
              "63414        70-74       No              Yes  Very good     No            No   \n",
              "175588       70-74      Yes              Yes       Good     No            No   \n",
              "144586       50-54       No               No       Good     No            No   \n",
              "\n",
              "       SkinCancer  heartdisease_GenHealth  mean_PhysicalHealth   BMI_Std  \n",
              "249975         No                   17304             2.801344  5.916689  \n",
              "311944        Yes                    7664             2.801344  5.916689  \n",
              "63414          No                   15525             2.801344  5.916689  \n",
              "175588         No                   17304             2.801344  5.916689  \n",
              "144586         No                   17304             2.801344  7.455474  "
            ],
            "text/html": [
              "\n",
              "  <div id=\"df-24c842be-ad4e-43b0-a336-a2170854f62d\">\n",
              "    <div class=\"colab-df-container\">\n",
              "      <div>\n",
              "<style scoped>\n",
              "    .dataframe tbody tr th:only-of-type {\n",
              "        vertical-align: middle;\n",
              "    }\n",
              "\n",
              "    .dataframe tbody tr th {\n",
              "        vertical-align: top;\n",
              "    }\n",
              "\n",
              "    .dataframe thead th {\n",
              "        text-align: right;\n",
              "    }\n",
              "</style>\n",
              "<table border=\"1\" class=\"dataframe\">\n",
              "  <thead>\n",
              "    <tr style=\"text-align: right;\">\n",
              "      <th></th>\n",
              "      <th>HeartDisease</th>\n",
              "      <th>BMI</th>\n",
              "      <th>Smoking</th>\n",
              "      <th>Stroke</th>\n",
              "      <th>PhysicalHealth</th>\n",
              "      <th>DiffWalking</th>\n",
              "      <th>Sex</th>\n",
              "      <th>AgeCategory</th>\n",
              "      <th>Diabetic</th>\n",
              "      <th>PhysicalActivity</th>\n",
              "      <th>GenHealth</th>\n",
              "      <th>Asthma</th>\n",
              "      <th>KidneyDisease</th>\n",
              "      <th>SkinCancer</th>\n",
              "      <th>heartdisease_GenHealth</th>\n",
              "      <th>mean_PhysicalHealth</th>\n",
              "      <th>BMI_Std</th>\n",
              "    </tr>\n",
              "  </thead>\n",
              "  <tbody>\n",
              "    <tr>\n",
              "      <th>249975</th>\n",
              "      <td>No</td>\n",
              "      <td>24.96</td>\n",
              "      <td>No</td>\n",
              "      <td>No</td>\n",
              "      <td>0.0</td>\n",
              "      <td>No</td>\n",
              "      <td>Female</td>\n",
              "      <td>65-69</td>\n",
              "      <td>No</td>\n",
              "      <td>Yes</td>\n",
              "      <td>Good</td>\n",
              "      <td>No</td>\n",
              "      <td>No</td>\n",
              "      <td>No</td>\n",
              "      <td>17304</td>\n",
              "      <td>2.801344</td>\n",
              "      <td>5.916689</td>\n",
              "    </tr>\n",
              "    <tr>\n",
              "      <th>311944</th>\n",
              "      <td>No</td>\n",
              "      <td>28.19</td>\n",
              "      <td>Yes</td>\n",
              "      <td>No</td>\n",
              "      <td>0.0</td>\n",
              "      <td>No</td>\n",
              "      <td>Female</td>\n",
              "      <td>65-69</td>\n",
              "      <td>No</td>\n",
              "      <td>Yes</td>\n",
              "      <td>Excellent</td>\n",
              "      <td>No</td>\n",
              "      <td>No</td>\n",
              "      <td>Yes</td>\n",
              "      <td>7664</td>\n",
              "      <td>2.801344</td>\n",
              "      <td>5.916689</td>\n",
              "    </tr>\n",
              "    <tr>\n",
              "      <th>63414</th>\n",
              "      <td>No</td>\n",
              "      <td>23.40</td>\n",
              "      <td>Yes</td>\n",
              "      <td>No</td>\n",
              "      <td>0.0</td>\n",
              "      <td>No</td>\n",
              "      <td>Male</td>\n",
              "      <td>70-74</td>\n",
              "      <td>No</td>\n",
              "      <td>Yes</td>\n",
              "      <td>Very good</td>\n",
              "      <td>No</td>\n",
              "      <td>No</td>\n",
              "      <td>No</td>\n",
              "      <td>15525</td>\n",
              "      <td>2.801344</td>\n",
              "      <td>5.916689</td>\n",
              "    </tr>\n",
              "    <tr>\n",
              "      <th>175588</th>\n",
              "      <td>No</td>\n",
              "      <td>30.52</td>\n",
              "      <td>Yes</td>\n",
              "      <td>No</td>\n",
              "      <td>0.0</td>\n",
              "      <td>No</td>\n",
              "      <td>Male</td>\n",
              "      <td>70-74</td>\n",
              "      <td>Yes</td>\n",
              "      <td>Yes</td>\n",
              "      <td>Good</td>\n",
              "      <td>No</td>\n",
              "      <td>No</td>\n",
              "      <td>No</td>\n",
              "      <td>17304</td>\n",
              "      <td>2.801344</td>\n",
              "      <td>5.916689</td>\n",
              "    </tr>\n",
              "    <tr>\n",
              "      <th>144586</th>\n",
              "      <td>No</td>\n",
              "      <td>28.97</td>\n",
              "      <td>Yes</td>\n",
              "      <td>No</td>\n",
              "      <td>0.0</td>\n",
              "      <td>No</td>\n",
              "      <td>Male</td>\n",
              "      <td>50-54</td>\n",
              "      <td>No</td>\n",
              "      <td>No</td>\n",
              "      <td>Good</td>\n",
              "      <td>No</td>\n",
              "      <td>No</td>\n",
              "      <td>No</td>\n",
              "      <td>17304</td>\n",
              "      <td>2.801344</td>\n",
              "      <td>7.455474</td>\n",
              "    </tr>\n",
              "  </tbody>\n",
              "</table>\n",
              "</div>\n",
              "      <button class=\"colab-df-convert\" onclick=\"convertToInteractive('df-24c842be-ad4e-43b0-a336-a2170854f62d')\"\n",
              "              title=\"Convert this dataframe to an interactive table.\"\n",
              "              style=\"display:none;\">\n",
              "        \n",
              "  <svg xmlns=\"http://www.w3.org/2000/svg\" height=\"24px\"viewBox=\"0 0 24 24\"\n",
              "       width=\"24px\">\n",
              "    <path d=\"M0 0h24v24H0V0z\" fill=\"none\"/>\n",
              "    <path d=\"M18.56 5.44l.94 2.06.94-2.06 2.06-.94-2.06-.94-.94-2.06-.94 2.06-2.06.94zm-11 1L8.5 8.5l.94-2.06 2.06-.94-2.06-.94L8.5 2.5l-.94 2.06-2.06.94zm10 10l.94 2.06.94-2.06 2.06-.94-2.06-.94-.94-2.06-.94 2.06-2.06.94z\"/><path d=\"M17.41 7.96l-1.37-1.37c-.4-.4-.92-.59-1.43-.59-.52 0-1.04.2-1.43.59L10.3 9.45l-7.72 7.72c-.78.78-.78 2.05 0 2.83L4 21.41c.39.39.9.59 1.41.59.51 0 1.02-.2 1.41-.59l7.78-7.78 2.81-2.81c.8-.78.8-2.07 0-2.86zM5.41 20L4 18.59l7.72-7.72 1.47 1.35L5.41 20z\"/>\n",
              "  </svg>\n",
              "      </button>\n",
              "      \n",
              "  <style>\n",
              "    .colab-df-container {\n",
              "      display:flex;\n",
              "      flex-wrap:wrap;\n",
              "      gap: 12px;\n",
              "    }\n",
              "\n",
              "    .colab-df-convert {\n",
              "      background-color: #E8F0FE;\n",
              "      border: none;\n",
              "      border-radius: 50%;\n",
              "      cursor: pointer;\n",
              "      display: none;\n",
              "      fill: #1967D2;\n",
              "      height: 32px;\n",
              "      padding: 0 0 0 0;\n",
              "      width: 32px;\n",
              "    }\n",
              "\n",
              "    .colab-df-convert:hover {\n",
              "      background-color: #E2EBFA;\n",
              "      box-shadow: 0px 1px 2px rgba(60, 64, 67, 0.3), 0px 1px 3px 1px rgba(60, 64, 67, 0.15);\n",
              "      fill: #174EA6;\n",
              "    }\n",
              "\n",
              "    [theme=dark] .colab-df-convert {\n",
              "      background-color: #3B4455;\n",
              "      fill: #D2E3FC;\n",
              "    }\n",
              "\n",
              "    [theme=dark] .colab-df-convert:hover {\n",
              "      background-color: #434B5C;\n",
              "      box-shadow: 0px 1px 3px 1px rgba(0, 0, 0, 0.15);\n",
              "      filter: drop-shadow(0px 1px 2px rgba(0, 0, 0, 0.3));\n",
              "      fill: #FFFFFF;\n",
              "    }\n",
              "  </style>\n",
              "\n",
              "      <script>\n",
              "        const buttonEl =\n",
              "          document.querySelector('#df-24c842be-ad4e-43b0-a336-a2170854f62d button.colab-df-convert');\n",
              "        buttonEl.style.display =\n",
              "          google.colab.kernel.accessAllowed ? 'block' : 'none';\n",
              "\n",
              "        async function convertToInteractive(key) {\n",
              "          const element = document.querySelector('#df-24c842be-ad4e-43b0-a336-a2170854f62d');\n",
              "          const dataTable =\n",
              "            await google.colab.kernel.invokeFunction('convertToInteractive',\n",
              "                                                     [key], {});\n",
              "          if (!dataTable) return;\n",
              "\n",
              "          const docLinkHtml = 'Like what you see? Visit the ' +\n",
              "            '<a target=\"_blank\" href=https://colab.research.google.com/notebooks/data_table.ipynb>data table notebook</a>'\n",
              "            + ' to learn more about interactive tables.';\n",
              "          element.innerHTML = '';\n",
              "          dataTable['output_type'] = 'display_data';\n",
              "          await google.colab.output.renderOutput(dataTable, element);\n",
              "          const docLink = document.createElement('div');\n",
              "          docLink.innerHTML = docLinkHtml;\n",
              "          element.appendChild(docLink);\n",
              "        }\n",
              "      </script>\n",
              "    </div>\n",
              "  </div>\n",
              "  "
            ]
          },
          "metadata": {},
          "execution_count": 12
        }
      ]
    },
    {
      "cell_type": "code",
      "source": [
        "print('\\nCategorical Columns\\n')\n",
        "heart_df.select_dtypes(include=['O']).nunique()"
      ],
      "metadata": {
        "colab": {
          "base_uri": "https://localhost:8080/"
        },
        "id": "9mozL70x48D-",
        "outputId": "48a5b40d-6bec-4154-e5cc-1c65c8b9a112"
      },
      "execution_count": 13,
      "outputs": [
        {
          "output_type": "stream",
          "name": "stdout",
          "text": [
            "\n",
            "Categorical Columns\n",
            "\n"
          ]
        },
        {
          "output_type": "execute_result",
          "data": {
            "text/plain": [
              "HeartDisease         2\n",
              "Smoking              2\n",
              "Stroke               2\n",
              "DiffWalking          2\n",
              "Sex                  2\n",
              "AgeCategory         13\n",
              "Diabetic             4\n",
              "PhysicalActivity     2\n",
              "GenHealth            5\n",
              "Asthma               2\n",
              "KidneyDisease        2\n",
              "SkinCancer           2\n",
              "dtype: int64"
            ]
          },
          "metadata": {},
          "execution_count": 13
        }
      ]
    },
    {
      "cell_type": "markdown",
      "source": [
        "From the above output we can see some of the categorical features are binary class variables which has 2 uniques values -yes/no, and some have more than 2 class values. So, for encoding binary features I've used Label encoder for converting yes/no to either 1 or 0 and dummies technique is used for categorical columns which has more than two unique values. Coming to dropping the unnecessary columns, I did not drop any columns because the dataset does not have any unique identifiers/ patient name/ address/zip code information and based on my intuition everything seems important. However the age Category is in categorical(each value is specified as range) and I'm converting it into integer by taking the mean if the given range."
      ],
      "metadata": {
        "id": "CPkg13eE4ZMx"
      }
    },
    {
      "cell_type": "code",
      "source": [
        "for col in ['HeartDisease', 'Smoking', 'Stroke', 'DiffWalking', 'Sex', 'PhysicalActivity', 'Asthma', 'KidneyDisease', 'SkinCancer']:\n",
        "    if heart_df[col].dtype == 'O':\n",
        "        le = LabelEncoder()\n",
        "        heart_df[col] = le.fit_transform(heart_df[col])"
      ],
      "metadata": {
        "id": "0ge6j0hQeuCO"
      },
      "execution_count": 14,
      "outputs": []
    },
    {
      "cell_type": "code",
      "source": [
        "heart_df.head()"
      ],
      "metadata": {
        "colab": {
          "base_uri": "https://localhost:8080/",
          "height": 270
        },
        "id": "dPgjSCVxe6to",
        "outputId": "1e128922-d623-49a6-fe38-61341f4c2185"
      },
      "execution_count": 15,
      "outputs": [
        {
          "output_type": "execute_result",
          "data": {
            "text/plain": [
              "        HeartDisease    BMI  Smoking  Stroke  PhysicalHealth  DiffWalking  \\\n",
              "249975             0  24.96        0       0             0.0            0   \n",
              "311944             0  28.19        1       0             0.0            0   \n",
              "63414              0  23.40        1       0             0.0            0   \n",
              "175588             0  30.52        1       0             0.0            0   \n",
              "144586             0  28.97        1       0             0.0            0   \n",
              "\n",
              "        Sex AgeCategory Diabetic  PhysicalActivity  GenHealth  Asthma  \\\n",
              "249975    0       65-69       No                 1       Good       0   \n",
              "311944    0       65-69       No                 1  Excellent       0   \n",
              "63414     1       70-74       No                 1  Very good       0   \n",
              "175588    1       70-74      Yes                 1       Good       0   \n",
              "144586    1       50-54       No                 0       Good       0   \n",
              "\n",
              "        KidneyDisease  SkinCancer  heartdisease_GenHealth  \\\n",
              "249975              0           0                   17304   \n",
              "311944              0           1                    7664   \n",
              "63414               0           0                   15525   \n",
              "175588              0           0                   17304   \n",
              "144586              0           0                   17304   \n",
              "\n",
              "        mean_PhysicalHealth   BMI_Std  \n",
              "249975             2.801344  5.916689  \n",
              "311944             2.801344  5.916689  \n",
              "63414              2.801344  5.916689  \n",
              "175588             2.801344  5.916689  \n",
              "144586             2.801344  7.455474  "
            ],
            "text/html": [
              "\n",
              "  <div id=\"df-b68cf04c-a407-4e0c-8258-1b0a31c697a0\">\n",
              "    <div class=\"colab-df-container\">\n",
              "      <div>\n",
              "<style scoped>\n",
              "    .dataframe tbody tr th:only-of-type {\n",
              "        vertical-align: middle;\n",
              "    }\n",
              "\n",
              "    .dataframe tbody tr th {\n",
              "        vertical-align: top;\n",
              "    }\n",
              "\n",
              "    .dataframe thead th {\n",
              "        text-align: right;\n",
              "    }\n",
              "</style>\n",
              "<table border=\"1\" class=\"dataframe\">\n",
              "  <thead>\n",
              "    <tr style=\"text-align: right;\">\n",
              "      <th></th>\n",
              "      <th>HeartDisease</th>\n",
              "      <th>BMI</th>\n",
              "      <th>Smoking</th>\n",
              "      <th>Stroke</th>\n",
              "      <th>PhysicalHealth</th>\n",
              "      <th>DiffWalking</th>\n",
              "      <th>Sex</th>\n",
              "      <th>AgeCategory</th>\n",
              "      <th>Diabetic</th>\n",
              "      <th>PhysicalActivity</th>\n",
              "      <th>GenHealth</th>\n",
              "      <th>Asthma</th>\n",
              "      <th>KidneyDisease</th>\n",
              "      <th>SkinCancer</th>\n",
              "      <th>heartdisease_GenHealth</th>\n",
              "      <th>mean_PhysicalHealth</th>\n",
              "      <th>BMI_Std</th>\n",
              "    </tr>\n",
              "  </thead>\n",
              "  <tbody>\n",
              "    <tr>\n",
              "      <th>249975</th>\n",
              "      <td>0</td>\n",
              "      <td>24.96</td>\n",
              "      <td>0</td>\n",
              "      <td>0</td>\n",
              "      <td>0.0</td>\n",
              "      <td>0</td>\n",
              "      <td>0</td>\n",
              "      <td>65-69</td>\n",
              "      <td>No</td>\n",
              "      <td>1</td>\n",
              "      <td>Good</td>\n",
              "      <td>0</td>\n",
              "      <td>0</td>\n",
              "      <td>0</td>\n",
              "      <td>17304</td>\n",
              "      <td>2.801344</td>\n",
              "      <td>5.916689</td>\n",
              "    </tr>\n",
              "    <tr>\n",
              "      <th>311944</th>\n",
              "      <td>0</td>\n",
              "      <td>28.19</td>\n",
              "      <td>1</td>\n",
              "      <td>0</td>\n",
              "      <td>0.0</td>\n",
              "      <td>0</td>\n",
              "      <td>0</td>\n",
              "      <td>65-69</td>\n",
              "      <td>No</td>\n",
              "      <td>1</td>\n",
              "      <td>Excellent</td>\n",
              "      <td>0</td>\n",
              "      <td>0</td>\n",
              "      <td>1</td>\n",
              "      <td>7664</td>\n",
              "      <td>2.801344</td>\n",
              "      <td>5.916689</td>\n",
              "    </tr>\n",
              "    <tr>\n",
              "      <th>63414</th>\n",
              "      <td>0</td>\n",
              "      <td>23.40</td>\n",
              "      <td>1</td>\n",
              "      <td>0</td>\n",
              "      <td>0.0</td>\n",
              "      <td>0</td>\n",
              "      <td>1</td>\n",
              "      <td>70-74</td>\n",
              "      <td>No</td>\n",
              "      <td>1</td>\n",
              "      <td>Very good</td>\n",
              "      <td>0</td>\n",
              "      <td>0</td>\n",
              "      <td>0</td>\n",
              "      <td>15525</td>\n",
              "      <td>2.801344</td>\n",
              "      <td>5.916689</td>\n",
              "    </tr>\n",
              "    <tr>\n",
              "      <th>175588</th>\n",
              "      <td>0</td>\n",
              "      <td>30.52</td>\n",
              "      <td>1</td>\n",
              "      <td>0</td>\n",
              "      <td>0.0</td>\n",
              "      <td>0</td>\n",
              "      <td>1</td>\n",
              "      <td>70-74</td>\n",
              "      <td>Yes</td>\n",
              "      <td>1</td>\n",
              "      <td>Good</td>\n",
              "      <td>0</td>\n",
              "      <td>0</td>\n",
              "      <td>0</td>\n",
              "      <td>17304</td>\n",
              "      <td>2.801344</td>\n",
              "      <td>5.916689</td>\n",
              "    </tr>\n",
              "    <tr>\n",
              "      <th>144586</th>\n",
              "      <td>0</td>\n",
              "      <td>28.97</td>\n",
              "      <td>1</td>\n",
              "      <td>0</td>\n",
              "      <td>0.0</td>\n",
              "      <td>0</td>\n",
              "      <td>1</td>\n",
              "      <td>50-54</td>\n",
              "      <td>No</td>\n",
              "      <td>0</td>\n",
              "      <td>Good</td>\n",
              "      <td>0</td>\n",
              "      <td>0</td>\n",
              "      <td>0</td>\n",
              "      <td>17304</td>\n",
              "      <td>2.801344</td>\n",
              "      <td>7.455474</td>\n",
              "    </tr>\n",
              "  </tbody>\n",
              "</table>\n",
              "</div>\n",
              "      <button class=\"colab-df-convert\" onclick=\"convertToInteractive('df-b68cf04c-a407-4e0c-8258-1b0a31c697a0')\"\n",
              "              title=\"Convert this dataframe to an interactive table.\"\n",
              "              style=\"display:none;\">\n",
              "        \n",
              "  <svg xmlns=\"http://www.w3.org/2000/svg\" height=\"24px\"viewBox=\"0 0 24 24\"\n",
              "       width=\"24px\">\n",
              "    <path d=\"M0 0h24v24H0V0z\" fill=\"none\"/>\n",
              "    <path d=\"M18.56 5.44l.94 2.06.94-2.06 2.06-.94-2.06-.94-.94-2.06-.94 2.06-2.06.94zm-11 1L8.5 8.5l.94-2.06 2.06-.94-2.06-.94L8.5 2.5l-.94 2.06-2.06.94zm10 10l.94 2.06.94-2.06 2.06-.94-2.06-.94-.94-2.06-.94 2.06-2.06.94z\"/><path d=\"M17.41 7.96l-1.37-1.37c-.4-.4-.92-.59-1.43-.59-.52 0-1.04.2-1.43.59L10.3 9.45l-7.72 7.72c-.78.78-.78 2.05 0 2.83L4 21.41c.39.39.9.59 1.41.59.51 0 1.02-.2 1.41-.59l7.78-7.78 2.81-2.81c.8-.78.8-2.07 0-2.86zM5.41 20L4 18.59l7.72-7.72 1.47 1.35L5.41 20z\"/>\n",
              "  </svg>\n",
              "      </button>\n",
              "      \n",
              "  <style>\n",
              "    .colab-df-container {\n",
              "      display:flex;\n",
              "      flex-wrap:wrap;\n",
              "      gap: 12px;\n",
              "    }\n",
              "\n",
              "    .colab-df-convert {\n",
              "      background-color: #E8F0FE;\n",
              "      border: none;\n",
              "      border-radius: 50%;\n",
              "      cursor: pointer;\n",
              "      display: none;\n",
              "      fill: #1967D2;\n",
              "      height: 32px;\n",
              "      padding: 0 0 0 0;\n",
              "      width: 32px;\n",
              "    }\n",
              "\n",
              "    .colab-df-convert:hover {\n",
              "      background-color: #E2EBFA;\n",
              "      box-shadow: 0px 1px 2px rgba(60, 64, 67, 0.3), 0px 1px 3px 1px rgba(60, 64, 67, 0.15);\n",
              "      fill: #174EA6;\n",
              "    }\n",
              "\n",
              "    [theme=dark] .colab-df-convert {\n",
              "      background-color: #3B4455;\n",
              "      fill: #D2E3FC;\n",
              "    }\n",
              "\n",
              "    [theme=dark] .colab-df-convert:hover {\n",
              "      background-color: #434B5C;\n",
              "      box-shadow: 0px 1px 3px 1px rgba(0, 0, 0, 0.15);\n",
              "      filter: drop-shadow(0px 1px 2px rgba(0, 0, 0, 0.3));\n",
              "      fill: #FFFFFF;\n",
              "    }\n",
              "  </style>\n",
              "\n",
              "      <script>\n",
              "        const buttonEl =\n",
              "          document.querySelector('#df-b68cf04c-a407-4e0c-8258-1b0a31c697a0 button.colab-df-convert');\n",
              "        buttonEl.style.display =\n",
              "          google.colab.kernel.accessAllowed ? 'block' : 'none';\n",
              "\n",
              "        async function convertToInteractive(key) {\n",
              "          const element = document.querySelector('#df-b68cf04c-a407-4e0c-8258-1b0a31c697a0');\n",
              "          const dataTable =\n",
              "            await google.colab.kernel.invokeFunction('convertToInteractive',\n",
              "                                                     [key], {});\n",
              "          if (!dataTable) return;\n",
              "\n",
              "          const docLinkHtml = 'Like what you see? Visit the ' +\n",
              "            '<a target=\"_blank\" href=https://colab.research.google.com/notebooks/data_table.ipynb>data table notebook</a>'\n",
              "            + ' to learn more about interactive tables.';\n",
              "          element.innerHTML = '';\n",
              "          dataTable['output_type'] = 'display_data';\n",
              "          await google.colab.output.renderOutput(dataTable, element);\n",
              "          const docLink = document.createElement('div');\n",
              "          docLink.innerHTML = docLinkHtml;\n",
              "          element.appendChild(docLink);\n",
              "        }\n",
              "      </script>\n",
              "    </div>\n",
              "  </div>\n",
              "  "
            ]
          },
          "metadata": {},
          "execution_count": 15
        }
      ]
    },
    {
      "cell_type": "code",
      "source": [
        "categoricals = heart_df[['GenHealth','Diabetic']]\n",
        "categoricals.head()"
      ],
      "metadata": {
        "colab": {
          "base_uri": "https://localhost:8080/",
          "height": 206
        },
        "id": "KhPK8niIdLZ4",
        "outputId": "bf023fb6-a9e6-45a2-db7e-39681aea65d6"
      },
      "execution_count": 16,
      "outputs": [
        {
          "output_type": "execute_result",
          "data": {
            "text/plain": [
              "        GenHealth Diabetic\n",
              "249975       Good       No\n",
              "311944  Excellent       No\n",
              "63414   Very good       No\n",
              "175588       Good      Yes\n",
              "144586       Good       No"
            ],
            "text/html": [
              "\n",
              "  <div id=\"df-44c2822a-1827-4b98-9126-31061b30ae6a\">\n",
              "    <div class=\"colab-df-container\">\n",
              "      <div>\n",
              "<style scoped>\n",
              "    .dataframe tbody tr th:only-of-type {\n",
              "        vertical-align: middle;\n",
              "    }\n",
              "\n",
              "    .dataframe tbody tr th {\n",
              "        vertical-align: top;\n",
              "    }\n",
              "\n",
              "    .dataframe thead th {\n",
              "        text-align: right;\n",
              "    }\n",
              "</style>\n",
              "<table border=\"1\" class=\"dataframe\">\n",
              "  <thead>\n",
              "    <tr style=\"text-align: right;\">\n",
              "      <th></th>\n",
              "      <th>GenHealth</th>\n",
              "      <th>Diabetic</th>\n",
              "    </tr>\n",
              "  </thead>\n",
              "  <tbody>\n",
              "    <tr>\n",
              "      <th>249975</th>\n",
              "      <td>Good</td>\n",
              "      <td>No</td>\n",
              "    </tr>\n",
              "    <tr>\n",
              "      <th>311944</th>\n",
              "      <td>Excellent</td>\n",
              "      <td>No</td>\n",
              "    </tr>\n",
              "    <tr>\n",
              "      <th>63414</th>\n",
              "      <td>Very good</td>\n",
              "      <td>No</td>\n",
              "    </tr>\n",
              "    <tr>\n",
              "      <th>175588</th>\n",
              "      <td>Good</td>\n",
              "      <td>Yes</td>\n",
              "    </tr>\n",
              "    <tr>\n",
              "      <th>144586</th>\n",
              "      <td>Good</td>\n",
              "      <td>No</td>\n",
              "    </tr>\n",
              "  </tbody>\n",
              "</table>\n",
              "</div>\n",
              "      <button class=\"colab-df-convert\" onclick=\"convertToInteractive('df-44c2822a-1827-4b98-9126-31061b30ae6a')\"\n",
              "              title=\"Convert this dataframe to an interactive table.\"\n",
              "              style=\"display:none;\">\n",
              "        \n",
              "  <svg xmlns=\"http://www.w3.org/2000/svg\" height=\"24px\"viewBox=\"0 0 24 24\"\n",
              "       width=\"24px\">\n",
              "    <path d=\"M0 0h24v24H0V0z\" fill=\"none\"/>\n",
              "    <path d=\"M18.56 5.44l.94 2.06.94-2.06 2.06-.94-2.06-.94-.94-2.06-.94 2.06-2.06.94zm-11 1L8.5 8.5l.94-2.06 2.06-.94-2.06-.94L8.5 2.5l-.94 2.06-2.06.94zm10 10l.94 2.06.94-2.06 2.06-.94-2.06-.94-.94-2.06-.94 2.06-2.06.94z\"/><path d=\"M17.41 7.96l-1.37-1.37c-.4-.4-.92-.59-1.43-.59-.52 0-1.04.2-1.43.59L10.3 9.45l-7.72 7.72c-.78.78-.78 2.05 0 2.83L4 21.41c.39.39.9.59 1.41.59.51 0 1.02-.2 1.41-.59l7.78-7.78 2.81-2.81c.8-.78.8-2.07 0-2.86zM5.41 20L4 18.59l7.72-7.72 1.47 1.35L5.41 20z\"/>\n",
              "  </svg>\n",
              "      </button>\n",
              "      \n",
              "  <style>\n",
              "    .colab-df-container {\n",
              "      display:flex;\n",
              "      flex-wrap:wrap;\n",
              "      gap: 12px;\n",
              "    }\n",
              "\n",
              "    .colab-df-convert {\n",
              "      background-color: #E8F0FE;\n",
              "      border: none;\n",
              "      border-radius: 50%;\n",
              "      cursor: pointer;\n",
              "      display: none;\n",
              "      fill: #1967D2;\n",
              "      height: 32px;\n",
              "      padding: 0 0 0 0;\n",
              "      width: 32px;\n",
              "    }\n",
              "\n",
              "    .colab-df-convert:hover {\n",
              "      background-color: #E2EBFA;\n",
              "      box-shadow: 0px 1px 2px rgba(60, 64, 67, 0.3), 0px 1px 3px 1px rgba(60, 64, 67, 0.15);\n",
              "      fill: #174EA6;\n",
              "    }\n",
              "\n",
              "    [theme=dark] .colab-df-convert {\n",
              "      background-color: #3B4455;\n",
              "      fill: #D2E3FC;\n",
              "    }\n",
              "\n",
              "    [theme=dark] .colab-df-convert:hover {\n",
              "      background-color: #434B5C;\n",
              "      box-shadow: 0px 1px 3px 1px rgba(0, 0, 0, 0.15);\n",
              "      filter: drop-shadow(0px 1px 2px rgba(0, 0, 0, 0.3));\n",
              "      fill: #FFFFFF;\n",
              "    }\n",
              "  </style>\n",
              "\n",
              "      <script>\n",
              "        const buttonEl =\n",
              "          document.querySelector('#df-44c2822a-1827-4b98-9126-31061b30ae6a button.colab-df-convert');\n",
              "        buttonEl.style.display =\n",
              "          google.colab.kernel.accessAllowed ? 'block' : 'none';\n",
              "\n",
              "        async function convertToInteractive(key) {\n",
              "          const element = document.querySelector('#df-44c2822a-1827-4b98-9126-31061b30ae6a');\n",
              "          const dataTable =\n",
              "            await google.colab.kernel.invokeFunction('convertToInteractive',\n",
              "                                                     [key], {});\n",
              "          if (!dataTable) return;\n",
              "\n",
              "          const docLinkHtml = 'Like what you see? Visit the ' +\n",
              "            '<a target=\"_blank\" href=https://colab.research.google.com/notebooks/data_table.ipynb>data table notebook</a>'\n",
              "            + ' to learn more about interactive tables.';\n",
              "          element.innerHTML = '';\n",
              "          dataTable['output_type'] = 'display_data';\n",
              "          await google.colab.output.renderOutput(dataTable, element);\n",
              "          const docLink = document.createElement('div');\n",
              "          docLink.innerHTML = docLinkHtml;\n",
              "          element.appendChild(docLink);\n",
              "        }\n",
              "      </script>\n",
              "    </div>\n",
              "  </div>\n",
              "  "
            ]
          },
          "metadata": {},
          "execution_count": 16
        }
      ]
    },
    {
      "cell_type": "code",
      "source": [
        "cat_dummies = pd.get_dummies(categoricals, drop_first=True)\n",
        "cat_dummies.head()"
      ],
      "metadata": {
        "colab": {
          "base_uri": "https://localhost:8080/",
          "height": 206
        },
        "id": "tfggyPkzdRbb",
        "outputId": "40281ae0-ea9b-4d2b-ade8-d92bdea14d89"
      },
      "execution_count": 17,
      "outputs": [
        {
          "output_type": "execute_result",
          "data": {
            "text/plain": [
              "        GenHealth_Fair  GenHealth_Good  GenHealth_Poor  GenHealth_Very good  \\\n",
              "249975               0               1               0                    0   \n",
              "311944               0               0               0                    0   \n",
              "63414                0               0               0                    1   \n",
              "175588               0               1               0                    0   \n",
              "144586               0               1               0                    0   \n",
              "\n",
              "        Diabetic_No, borderline diabetes  Diabetic_Yes  \\\n",
              "249975                                 0             0   \n",
              "311944                                 0             0   \n",
              "63414                                  0             0   \n",
              "175588                                 0             1   \n",
              "144586                                 0             0   \n",
              "\n",
              "        Diabetic_Yes (during pregnancy)  \n",
              "249975                                0  \n",
              "311944                                0  \n",
              "63414                                 0  \n",
              "175588                                0  \n",
              "144586                                0  "
            ],
            "text/html": [
              "\n",
              "  <div id=\"df-32ed9987-f7b3-41fe-8f82-905ebf4ce294\">\n",
              "    <div class=\"colab-df-container\">\n",
              "      <div>\n",
              "<style scoped>\n",
              "    .dataframe tbody tr th:only-of-type {\n",
              "        vertical-align: middle;\n",
              "    }\n",
              "\n",
              "    .dataframe tbody tr th {\n",
              "        vertical-align: top;\n",
              "    }\n",
              "\n",
              "    .dataframe thead th {\n",
              "        text-align: right;\n",
              "    }\n",
              "</style>\n",
              "<table border=\"1\" class=\"dataframe\">\n",
              "  <thead>\n",
              "    <tr style=\"text-align: right;\">\n",
              "      <th></th>\n",
              "      <th>GenHealth_Fair</th>\n",
              "      <th>GenHealth_Good</th>\n",
              "      <th>GenHealth_Poor</th>\n",
              "      <th>GenHealth_Very good</th>\n",
              "      <th>Diabetic_No, borderline diabetes</th>\n",
              "      <th>Diabetic_Yes</th>\n",
              "      <th>Diabetic_Yes (during pregnancy)</th>\n",
              "    </tr>\n",
              "  </thead>\n",
              "  <tbody>\n",
              "    <tr>\n",
              "      <th>249975</th>\n",
              "      <td>0</td>\n",
              "      <td>1</td>\n",
              "      <td>0</td>\n",
              "      <td>0</td>\n",
              "      <td>0</td>\n",
              "      <td>0</td>\n",
              "      <td>0</td>\n",
              "    </tr>\n",
              "    <tr>\n",
              "      <th>311944</th>\n",
              "      <td>0</td>\n",
              "      <td>0</td>\n",
              "      <td>0</td>\n",
              "      <td>0</td>\n",
              "      <td>0</td>\n",
              "      <td>0</td>\n",
              "      <td>0</td>\n",
              "    </tr>\n",
              "    <tr>\n",
              "      <th>63414</th>\n",
              "      <td>0</td>\n",
              "      <td>0</td>\n",
              "      <td>0</td>\n",
              "      <td>1</td>\n",
              "      <td>0</td>\n",
              "      <td>0</td>\n",
              "      <td>0</td>\n",
              "    </tr>\n",
              "    <tr>\n",
              "      <th>175588</th>\n",
              "      <td>0</td>\n",
              "      <td>1</td>\n",
              "      <td>0</td>\n",
              "      <td>0</td>\n",
              "      <td>0</td>\n",
              "      <td>1</td>\n",
              "      <td>0</td>\n",
              "    </tr>\n",
              "    <tr>\n",
              "      <th>144586</th>\n",
              "      <td>0</td>\n",
              "      <td>1</td>\n",
              "      <td>0</td>\n",
              "      <td>0</td>\n",
              "      <td>0</td>\n",
              "      <td>0</td>\n",
              "      <td>0</td>\n",
              "    </tr>\n",
              "  </tbody>\n",
              "</table>\n",
              "</div>\n",
              "      <button class=\"colab-df-convert\" onclick=\"convertToInteractive('df-32ed9987-f7b3-41fe-8f82-905ebf4ce294')\"\n",
              "              title=\"Convert this dataframe to an interactive table.\"\n",
              "              style=\"display:none;\">\n",
              "        \n",
              "  <svg xmlns=\"http://www.w3.org/2000/svg\" height=\"24px\"viewBox=\"0 0 24 24\"\n",
              "       width=\"24px\">\n",
              "    <path d=\"M0 0h24v24H0V0z\" fill=\"none\"/>\n",
              "    <path d=\"M18.56 5.44l.94 2.06.94-2.06 2.06-.94-2.06-.94-.94-2.06-.94 2.06-2.06.94zm-11 1L8.5 8.5l.94-2.06 2.06-.94-2.06-.94L8.5 2.5l-.94 2.06-2.06.94zm10 10l.94 2.06.94-2.06 2.06-.94-2.06-.94-.94-2.06-.94 2.06-2.06.94z\"/><path d=\"M17.41 7.96l-1.37-1.37c-.4-.4-.92-.59-1.43-.59-.52 0-1.04.2-1.43.59L10.3 9.45l-7.72 7.72c-.78.78-.78 2.05 0 2.83L4 21.41c.39.39.9.59 1.41.59.51 0 1.02-.2 1.41-.59l7.78-7.78 2.81-2.81c.8-.78.8-2.07 0-2.86zM5.41 20L4 18.59l7.72-7.72 1.47 1.35L5.41 20z\"/>\n",
              "  </svg>\n",
              "      </button>\n",
              "      \n",
              "  <style>\n",
              "    .colab-df-container {\n",
              "      display:flex;\n",
              "      flex-wrap:wrap;\n",
              "      gap: 12px;\n",
              "    }\n",
              "\n",
              "    .colab-df-convert {\n",
              "      background-color: #E8F0FE;\n",
              "      border: none;\n",
              "      border-radius: 50%;\n",
              "      cursor: pointer;\n",
              "      display: none;\n",
              "      fill: #1967D2;\n",
              "      height: 32px;\n",
              "      padding: 0 0 0 0;\n",
              "      width: 32px;\n",
              "    }\n",
              "\n",
              "    .colab-df-convert:hover {\n",
              "      background-color: #E2EBFA;\n",
              "      box-shadow: 0px 1px 2px rgba(60, 64, 67, 0.3), 0px 1px 3px 1px rgba(60, 64, 67, 0.15);\n",
              "      fill: #174EA6;\n",
              "    }\n",
              "\n",
              "    [theme=dark] .colab-df-convert {\n",
              "      background-color: #3B4455;\n",
              "      fill: #D2E3FC;\n",
              "    }\n",
              "\n",
              "    [theme=dark] .colab-df-convert:hover {\n",
              "      background-color: #434B5C;\n",
              "      box-shadow: 0px 1px 3px 1px rgba(0, 0, 0, 0.15);\n",
              "      filter: drop-shadow(0px 1px 2px rgba(0, 0, 0, 0.3));\n",
              "      fill: #FFFFFF;\n",
              "    }\n",
              "  </style>\n",
              "\n",
              "      <script>\n",
              "        const buttonEl =\n",
              "          document.querySelector('#df-32ed9987-f7b3-41fe-8f82-905ebf4ce294 button.colab-df-convert');\n",
              "        buttonEl.style.display =\n",
              "          google.colab.kernel.accessAllowed ? 'block' : 'none';\n",
              "\n",
              "        async function convertToInteractive(key) {\n",
              "          const element = document.querySelector('#df-32ed9987-f7b3-41fe-8f82-905ebf4ce294');\n",
              "          const dataTable =\n",
              "            await google.colab.kernel.invokeFunction('convertToInteractive',\n",
              "                                                     [key], {});\n",
              "          if (!dataTable) return;\n",
              "\n",
              "          const docLinkHtml = 'Like what you see? Visit the ' +\n",
              "            '<a target=\"_blank\" href=https://colab.research.google.com/notebooks/data_table.ipynb>data table notebook</a>'\n",
              "            + ' to learn more about interactive tables.';\n",
              "          element.innerHTML = '';\n",
              "          dataTable['output_type'] = 'display_data';\n",
              "          await google.colab.output.renderOutput(dataTable, element);\n",
              "          const docLink = document.createElement('div');\n",
              "          docLink.innerHTML = docLinkHtml;\n",
              "          element.appendChild(docLink);\n",
              "        }\n",
              "      </script>\n",
              "    </div>\n",
              "  </div>\n",
              "  "
            ]
          },
          "metadata": {},
          "execution_count": 17
        }
      ]
    },
    {
      "cell_type": "code",
      "source": [
        "# Drop the redundant columns\n",
        "heart_df.drop(list(categoricals.columns), axis=1, inplace=True)\n",
        "# concat the heart and dummies data frames.\n",
        "heart_df = pd.concat([heart_df, cat_dummies], axis=1)\n",
        "heart_df.head()"
      ],
      "metadata": {
        "colab": {
          "base_uri": "https://localhost:8080/",
          "height": 334
        },
        "id": "KJsJ194TEuDc",
        "outputId": "17a0c6c9-e828-49a9-d7e0-fd8f072e1988"
      },
      "execution_count": 18,
      "outputs": [
        {
          "output_type": "execute_result",
          "data": {
            "text/plain": [
              "        HeartDisease    BMI  Smoking  Stroke  PhysicalHealth  DiffWalking  \\\n",
              "249975             0  24.96        0       0             0.0            0   \n",
              "311944             0  28.19        1       0             0.0            0   \n",
              "63414              0  23.40        1       0             0.0            0   \n",
              "175588             0  30.52        1       0             0.0            0   \n",
              "144586             0  28.97        1       0             0.0            0   \n",
              "\n",
              "        Sex AgeCategory  PhysicalActivity  Asthma  ...  \\\n",
              "249975    0       65-69                 1       0  ...   \n",
              "311944    0       65-69                 1       0  ...   \n",
              "63414     1       70-74                 1       0  ...   \n",
              "175588    1       70-74                 1       0  ...   \n",
              "144586    1       50-54                 0       0  ...   \n",
              "\n",
              "        heartdisease_GenHealth  mean_PhysicalHealth   BMI_Std  GenHealth_Fair  \\\n",
              "249975                   17304             2.801344  5.916689               0   \n",
              "311944                    7664             2.801344  5.916689               0   \n",
              "63414                    15525             2.801344  5.916689               0   \n",
              "175588                   17304             2.801344  5.916689               0   \n",
              "144586                   17304             2.801344  7.455474               0   \n",
              "\n",
              "        GenHealth_Good  GenHealth_Poor  GenHealth_Very good  \\\n",
              "249975               1               0                    0   \n",
              "311944               0               0                    0   \n",
              "63414                0               0                    1   \n",
              "175588               1               0                    0   \n",
              "144586               1               0                    0   \n",
              "\n",
              "        Diabetic_No, borderline diabetes  Diabetic_Yes  \\\n",
              "249975                                 0             0   \n",
              "311944                                 0             0   \n",
              "63414                                  0             0   \n",
              "175588                                 0             1   \n",
              "144586                                 0             0   \n",
              "\n",
              "        Diabetic_Yes (during pregnancy)  \n",
              "249975                                0  \n",
              "311944                                0  \n",
              "63414                                 0  \n",
              "175588                                0  \n",
              "144586                                0  \n",
              "\n",
              "[5 rows x 22 columns]"
            ],
            "text/html": [
              "\n",
              "  <div id=\"df-408d206a-f5a9-4983-9fa0-969539e7d27a\">\n",
              "    <div class=\"colab-df-container\">\n",
              "      <div>\n",
              "<style scoped>\n",
              "    .dataframe tbody tr th:only-of-type {\n",
              "        vertical-align: middle;\n",
              "    }\n",
              "\n",
              "    .dataframe tbody tr th {\n",
              "        vertical-align: top;\n",
              "    }\n",
              "\n",
              "    .dataframe thead th {\n",
              "        text-align: right;\n",
              "    }\n",
              "</style>\n",
              "<table border=\"1\" class=\"dataframe\">\n",
              "  <thead>\n",
              "    <tr style=\"text-align: right;\">\n",
              "      <th></th>\n",
              "      <th>HeartDisease</th>\n",
              "      <th>BMI</th>\n",
              "      <th>Smoking</th>\n",
              "      <th>Stroke</th>\n",
              "      <th>PhysicalHealth</th>\n",
              "      <th>DiffWalking</th>\n",
              "      <th>Sex</th>\n",
              "      <th>AgeCategory</th>\n",
              "      <th>PhysicalActivity</th>\n",
              "      <th>Asthma</th>\n",
              "      <th>...</th>\n",
              "      <th>heartdisease_GenHealth</th>\n",
              "      <th>mean_PhysicalHealth</th>\n",
              "      <th>BMI_Std</th>\n",
              "      <th>GenHealth_Fair</th>\n",
              "      <th>GenHealth_Good</th>\n",
              "      <th>GenHealth_Poor</th>\n",
              "      <th>GenHealth_Very good</th>\n",
              "      <th>Diabetic_No, borderline diabetes</th>\n",
              "      <th>Diabetic_Yes</th>\n",
              "      <th>Diabetic_Yes (during pregnancy)</th>\n",
              "    </tr>\n",
              "  </thead>\n",
              "  <tbody>\n",
              "    <tr>\n",
              "      <th>249975</th>\n",
              "      <td>0</td>\n",
              "      <td>24.96</td>\n",
              "      <td>0</td>\n",
              "      <td>0</td>\n",
              "      <td>0.0</td>\n",
              "      <td>0</td>\n",
              "      <td>0</td>\n",
              "      <td>65-69</td>\n",
              "      <td>1</td>\n",
              "      <td>0</td>\n",
              "      <td>...</td>\n",
              "      <td>17304</td>\n",
              "      <td>2.801344</td>\n",
              "      <td>5.916689</td>\n",
              "      <td>0</td>\n",
              "      <td>1</td>\n",
              "      <td>0</td>\n",
              "      <td>0</td>\n",
              "      <td>0</td>\n",
              "      <td>0</td>\n",
              "      <td>0</td>\n",
              "    </tr>\n",
              "    <tr>\n",
              "      <th>311944</th>\n",
              "      <td>0</td>\n",
              "      <td>28.19</td>\n",
              "      <td>1</td>\n",
              "      <td>0</td>\n",
              "      <td>0.0</td>\n",
              "      <td>0</td>\n",
              "      <td>0</td>\n",
              "      <td>65-69</td>\n",
              "      <td>1</td>\n",
              "      <td>0</td>\n",
              "      <td>...</td>\n",
              "      <td>7664</td>\n",
              "      <td>2.801344</td>\n",
              "      <td>5.916689</td>\n",
              "      <td>0</td>\n",
              "      <td>0</td>\n",
              "      <td>0</td>\n",
              "      <td>0</td>\n",
              "      <td>0</td>\n",
              "      <td>0</td>\n",
              "      <td>0</td>\n",
              "    </tr>\n",
              "    <tr>\n",
              "      <th>63414</th>\n",
              "      <td>0</td>\n",
              "      <td>23.40</td>\n",
              "      <td>1</td>\n",
              "      <td>0</td>\n",
              "      <td>0.0</td>\n",
              "      <td>0</td>\n",
              "      <td>1</td>\n",
              "      <td>70-74</td>\n",
              "      <td>1</td>\n",
              "      <td>0</td>\n",
              "      <td>...</td>\n",
              "      <td>15525</td>\n",
              "      <td>2.801344</td>\n",
              "      <td>5.916689</td>\n",
              "      <td>0</td>\n",
              "      <td>0</td>\n",
              "      <td>0</td>\n",
              "      <td>1</td>\n",
              "      <td>0</td>\n",
              "      <td>0</td>\n",
              "      <td>0</td>\n",
              "    </tr>\n",
              "    <tr>\n",
              "      <th>175588</th>\n",
              "      <td>0</td>\n",
              "      <td>30.52</td>\n",
              "      <td>1</td>\n",
              "      <td>0</td>\n",
              "      <td>0.0</td>\n",
              "      <td>0</td>\n",
              "      <td>1</td>\n",
              "      <td>70-74</td>\n",
              "      <td>1</td>\n",
              "      <td>0</td>\n",
              "      <td>...</td>\n",
              "      <td>17304</td>\n",
              "      <td>2.801344</td>\n",
              "      <td>5.916689</td>\n",
              "      <td>0</td>\n",
              "      <td>1</td>\n",
              "      <td>0</td>\n",
              "      <td>0</td>\n",
              "      <td>0</td>\n",
              "      <td>1</td>\n",
              "      <td>0</td>\n",
              "    </tr>\n",
              "    <tr>\n",
              "      <th>144586</th>\n",
              "      <td>0</td>\n",
              "      <td>28.97</td>\n",
              "      <td>1</td>\n",
              "      <td>0</td>\n",
              "      <td>0.0</td>\n",
              "      <td>0</td>\n",
              "      <td>1</td>\n",
              "      <td>50-54</td>\n",
              "      <td>0</td>\n",
              "      <td>0</td>\n",
              "      <td>...</td>\n",
              "      <td>17304</td>\n",
              "      <td>2.801344</td>\n",
              "      <td>7.455474</td>\n",
              "      <td>0</td>\n",
              "      <td>1</td>\n",
              "      <td>0</td>\n",
              "      <td>0</td>\n",
              "      <td>0</td>\n",
              "      <td>0</td>\n",
              "      <td>0</td>\n",
              "    </tr>\n",
              "  </tbody>\n",
              "</table>\n",
              "<p>5 rows × 22 columns</p>\n",
              "</div>\n",
              "      <button class=\"colab-df-convert\" onclick=\"convertToInteractive('df-408d206a-f5a9-4983-9fa0-969539e7d27a')\"\n",
              "              title=\"Convert this dataframe to an interactive table.\"\n",
              "              style=\"display:none;\">\n",
              "        \n",
              "  <svg xmlns=\"http://www.w3.org/2000/svg\" height=\"24px\"viewBox=\"0 0 24 24\"\n",
              "       width=\"24px\">\n",
              "    <path d=\"M0 0h24v24H0V0z\" fill=\"none\"/>\n",
              "    <path d=\"M18.56 5.44l.94 2.06.94-2.06 2.06-.94-2.06-.94-.94-2.06-.94 2.06-2.06.94zm-11 1L8.5 8.5l.94-2.06 2.06-.94-2.06-.94L8.5 2.5l-.94 2.06-2.06.94zm10 10l.94 2.06.94-2.06 2.06-.94-2.06-.94-.94-2.06-.94 2.06-2.06.94z\"/><path d=\"M17.41 7.96l-1.37-1.37c-.4-.4-.92-.59-1.43-.59-.52 0-1.04.2-1.43.59L10.3 9.45l-7.72 7.72c-.78.78-.78 2.05 0 2.83L4 21.41c.39.39.9.59 1.41.59.51 0 1.02-.2 1.41-.59l7.78-7.78 2.81-2.81c.8-.78.8-2.07 0-2.86zM5.41 20L4 18.59l7.72-7.72 1.47 1.35L5.41 20z\"/>\n",
              "  </svg>\n",
              "      </button>\n",
              "      \n",
              "  <style>\n",
              "    .colab-df-container {\n",
              "      display:flex;\n",
              "      flex-wrap:wrap;\n",
              "      gap: 12px;\n",
              "    }\n",
              "\n",
              "    .colab-df-convert {\n",
              "      background-color: #E8F0FE;\n",
              "      border: none;\n",
              "      border-radius: 50%;\n",
              "      cursor: pointer;\n",
              "      display: none;\n",
              "      fill: #1967D2;\n",
              "      height: 32px;\n",
              "      padding: 0 0 0 0;\n",
              "      width: 32px;\n",
              "    }\n",
              "\n",
              "    .colab-df-convert:hover {\n",
              "      background-color: #E2EBFA;\n",
              "      box-shadow: 0px 1px 2px rgba(60, 64, 67, 0.3), 0px 1px 3px 1px rgba(60, 64, 67, 0.15);\n",
              "      fill: #174EA6;\n",
              "    }\n",
              "\n",
              "    [theme=dark] .colab-df-convert {\n",
              "      background-color: #3B4455;\n",
              "      fill: #D2E3FC;\n",
              "    }\n",
              "\n",
              "    [theme=dark] .colab-df-convert:hover {\n",
              "      background-color: #434B5C;\n",
              "      box-shadow: 0px 1px 3px 1px rgba(0, 0, 0, 0.15);\n",
              "      filter: drop-shadow(0px 1px 2px rgba(0, 0, 0, 0.3));\n",
              "      fill: #FFFFFF;\n",
              "    }\n",
              "  </style>\n",
              "\n",
              "      <script>\n",
              "        const buttonEl =\n",
              "          document.querySelector('#df-408d206a-f5a9-4983-9fa0-969539e7d27a button.colab-df-convert');\n",
              "        buttonEl.style.display =\n",
              "          google.colab.kernel.accessAllowed ? 'block' : 'none';\n",
              "\n",
              "        async function convertToInteractive(key) {\n",
              "          const element = document.querySelector('#df-408d206a-f5a9-4983-9fa0-969539e7d27a');\n",
              "          const dataTable =\n",
              "            await google.colab.kernel.invokeFunction('convertToInteractive',\n",
              "                                                     [key], {});\n",
              "          if (!dataTable) return;\n",
              "\n",
              "          const docLinkHtml = 'Like what you see? Visit the ' +\n",
              "            '<a target=\"_blank\" href=https://colab.research.google.com/notebooks/data_table.ipynb>data table notebook</a>'\n",
              "            + ' to learn more about interactive tables.';\n",
              "          element.innerHTML = '';\n",
              "          dataTable['output_type'] = 'display_data';\n",
              "          await google.colab.output.renderOutput(dataTable, element);\n",
              "          const docLink = document.createElement('div');\n",
              "          docLink.innerHTML = docLinkHtml;\n",
              "          element.appendChild(docLink);\n",
              "        }\n",
              "      </script>\n",
              "    </div>\n",
              "  </div>\n",
              "  "
            ]
          },
          "metadata": {},
          "execution_count": 18
        }
      ]
    },
    {
      "cell_type": "code",
      "source": [
        "encode_AgeCategory = {'55-59':57, '80 or older':80, '65-69':67,\n",
        "                      '75-79':77,'40-44':42,'70-74':72,'60-64':62,\n",
        "                      '50-54':52,'45-49':47,'18-24':21,'35-39':37,\n",
        "                      '30-34':32,'25-29':27}\n",
        "heart_df['AgeCategory'] = heart_df['AgeCategory'].apply(lambda x: encode_AgeCategory[x])\n",
        "heart_df['AgeCategory'] = heart_df['AgeCategory'].astype('int64')"
      ],
      "metadata": {
        "id": "juJ0nW-riUC9"
      },
      "execution_count": 19,
      "outputs": []
    },
    {
      "cell_type": "code",
      "source": [
        "heart_df.head()"
      ],
      "metadata": {
        "colab": {
          "base_uri": "https://localhost:8080/",
          "height": 334
        },
        "id": "Qt2giVS8iisv",
        "outputId": "71f5d9da-e796-46be-b129-de6b8bf77697"
      },
      "execution_count": 20,
      "outputs": [
        {
          "output_type": "execute_result",
          "data": {
            "text/plain": [
              "        HeartDisease    BMI  Smoking  Stroke  PhysicalHealth  DiffWalking  \\\n",
              "249975             0  24.96        0       0             0.0            0   \n",
              "311944             0  28.19        1       0             0.0            0   \n",
              "63414              0  23.40        1       0             0.0            0   \n",
              "175588             0  30.52        1       0             0.0            0   \n",
              "144586             0  28.97        1       0             0.0            0   \n",
              "\n",
              "        Sex  AgeCategory  PhysicalActivity  Asthma  ...  \\\n",
              "249975    0           67                 1       0  ...   \n",
              "311944    0           67                 1       0  ...   \n",
              "63414     1           72                 1       0  ...   \n",
              "175588    1           72                 1       0  ...   \n",
              "144586    1           52                 0       0  ...   \n",
              "\n",
              "        heartdisease_GenHealth  mean_PhysicalHealth   BMI_Std  GenHealth_Fair  \\\n",
              "249975                   17304             2.801344  5.916689               0   \n",
              "311944                    7664             2.801344  5.916689               0   \n",
              "63414                    15525             2.801344  5.916689               0   \n",
              "175588                   17304             2.801344  5.916689               0   \n",
              "144586                   17304             2.801344  7.455474               0   \n",
              "\n",
              "        GenHealth_Good  GenHealth_Poor  GenHealth_Very good  \\\n",
              "249975               1               0                    0   \n",
              "311944               0               0                    0   \n",
              "63414                0               0                    1   \n",
              "175588               1               0                    0   \n",
              "144586               1               0                    0   \n",
              "\n",
              "        Diabetic_No, borderline diabetes  Diabetic_Yes  \\\n",
              "249975                                 0             0   \n",
              "311944                                 0             0   \n",
              "63414                                  0             0   \n",
              "175588                                 0             1   \n",
              "144586                                 0             0   \n",
              "\n",
              "        Diabetic_Yes (during pregnancy)  \n",
              "249975                                0  \n",
              "311944                                0  \n",
              "63414                                 0  \n",
              "175588                                0  \n",
              "144586                                0  \n",
              "\n",
              "[5 rows x 22 columns]"
            ],
            "text/html": [
              "\n",
              "  <div id=\"df-56c08148-9ef9-4e74-96f3-7897340d4de7\">\n",
              "    <div class=\"colab-df-container\">\n",
              "      <div>\n",
              "<style scoped>\n",
              "    .dataframe tbody tr th:only-of-type {\n",
              "        vertical-align: middle;\n",
              "    }\n",
              "\n",
              "    .dataframe tbody tr th {\n",
              "        vertical-align: top;\n",
              "    }\n",
              "\n",
              "    .dataframe thead th {\n",
              "        text-align: right;\n",
              "    }\n",
              "</style>\n",
              "<table border=\"1\" class=\"dataframe\">\n",
              "  <thead>\n",
              "    <tr style=\"text-align: right;\">\n",
              "      <th></th>\n",
              "      <th>HeartDisease</th>\n",
              "      <th>BMI</th>\n",
              "      <th>Smoking</th>\n",
              "      <th>Stroke</th>\n",
              "      <th>PhysicalHealth</th>\n",
              "      <th>DiffWalking</th>\n",
              "      <th>Sex</th>\n",
              "      <th>AgeCategory</th>\n",
              "      <th>PhysicalActivity</th>\n",
              "      <th>Asthma</th>\n",
              "      <th>...</th>\n",
              "      <th>heartdisease_GenHealth</th>\n",
              "      <th>mean_PhysicalHealth</th>\n",
              "      <th>BMI_Std</th>\n",
              "      <th>GenHealth_Fair</th>\n",
              "      <th>GenHealth_Good</th>\n",
              "      <th>GenHealth_Poor</th>\n",
              "      <th>GenHealth_Very good</th>\n",
              "      <th>Diabetic_No, borderline diabetes</th>\n",
              "      <th>Diabetic_Yes</th>\n",
              "      <th>Diabetic_Yes (during pregnancy)</th>\n",
              "    </tr>\n",
              "  </thead>\n",
              "  <tbody>\n",
              "    <tr>\n",
              "      <th>249975</th>\n",
              "      <td>0</td>\n",
              "      <td>24.96</td>\n",
              "      <td>0</td>\n",
              "      <td>0</td>\n",
              "      <td>0.0</td>\n",
              "      <td>0</td>\n",
              "      <td>0</td>\n",
              "      <td>67</td>\n",
              "      <td>1</td>\n",
              "      <td>0</td>\n",
              "      <td>...</td>\n",
              "      <td>17304</td>\n",
              "      <td>2.801344</td>\n",
              "      <td>5.916689</td>\n",
              "      <td>0</td>\n",
              "      <td>1</td>\n",
              "      <td>0</td>\n",
              "      <td>0</td>\n",
              "      <td>0</td>\n",
              "      <td>0</td>\n",
              "      <td>0</td>\n",
              "    </tr>\n",
              "    <tr>\n",
              "      <th>311944</th>\n",
              "      <td>0</td>\n",
              "      <td>28.19</td>\n",
              "      <td>1</td>\n",
              "      <td>0</td>\n",
              "      <td>0.0</td>\n",
              "      <td>0</td>\n",
              "      <td>0</td>\n",
              "      <td>67</td>\n",
              "      <td>1</td>\n",
              "      <td>0</td>\n",
              "      <td>...</td>\n",
              "      <td>7664</td>\n",
              "      <td>2.801344</td>\n",
              "      <td>5.916689</td>\n",
              "      <td>0</td>\n",
              "      <td>0</td>\n",
              "      <td>0</td>\n",
              "      <td>0</td>\n",
              "      <td>0</td>\n",
              "      <td>0</td>\n",
              "      <td>0</td>\n",
              "    </tr>\n",
              "    <tr>\n",
              "      <th>63414</th>\n",
              "      <td>0</td>\n",
              "      <td>23.40</td>\n",
              "      <td>1</td>\n",
              "      <td>0</td>\n",
              "      <td>0.0</td>\n",
              "      <td>0</td>\n",
              "      <td>1</td>\n",
              "      <td>72</td>\n",
              "      <td>1</td>\n",
              "      <td>0</td>\n",
              "      <td>...</td>\n",
              "      <td>15525</td>\n",
              "      <td>2.801344</td>\n",
              "      <td>5.916689</td>\n",
              "      <td>0</td>\n",
              "      <td>0</td>\n",
              "      <td>0</td>\n",
              "      <td>1</td>\n",
              "      <td>0</td>\n",
              "      <td>0</td>\n",
              "      <td>0</td>\n",
              "    </tr>\n",
              "    <tr>\n",
              "      <th>175588</th>\n",
              "      <td>0</td>\n",
              "      <td>30.52</td>\n",
              "      <td>1</td>\n",
              "      <td>0</td>\n",
              "      <td>0.0</td>\n",
              "      <td>0</td>\n",
              "      <td>1</td>\n",
              "      <td>72</td>\n",
              "      <td>1</td>\n",
              "      <td>0</td>\n",
              "      <td>...</td>\n",
              "      <td>17304</td>\n",
              "      <td>2.801344</td>\n",
              "      <td>5.916689</td>\n",
              "      <td>0</td>\n",
              "      <td>1</td>\n",
              "      <td>0</td>\n",
              "      <td>0</td>\n",
              "      <td>0</td>\n",
              "      <td>1</td>\n",
              "      <td>0</td>\n",
              "    </tr>\n",
              "    <tr>\n",
              "      <th>144586</th>\n",
              "      <td>0</td>\n",
              "      <td>28.97</td>\n",
              "      <td>1</td>\n",
              "      <td>0</td>\n",
              "      <td>0.0</td>\n",
              "      <td>0</td>\n",
              "      <td>1</td>\n",
              "      <td>52</td>\n",
              "      <td>0</td>\n",
              "      <td>0</td>\n",
              "      <td>...</td>\n",
              "      <td>17304</td>\n",
              "      <td>2.801344</td>\n",
              "      <td>7.455474</td>\n",
              "      <td>0</td>\n",
              "      <td>1</td>\n",
              "      <td>0</td>\n",
              "      <td>0</td>\n",
              "      <td>0</td>\n",
              "      <td>0</td>\n",
              "      <td>0</td>\n",
              "    </tr>\n",
              "  </tbody>\n",
              "</table>\n",
              "<p>5 rows × 22 columns</p>\n",
              "</div>\n",
              "      <button class=\"colab-df-convert\" onclick=\"convertToInteractive('df-56c08148-9ef9-4e74-96f3-7897340d4de7')\"\n",
              "              title=\"Convert this dataframe to an interactive table.\"\n",
              "              style=\"display:none;\">\n",
              "        \n",
              "  <svg xmlns=\"http://www.w3.org/2000/svg\" height=\"24px\"viewBox=\"0 0 24 24\"\n",
              "       width=\"24px\">\n",
              "    <path d=\"M0 0h24v24H0V0z\" fill=\"none\"/>\n",
              "    <path d=\"M18.56 5.44l.94 2.06.94-2.06 2.06-.94-2.06-.94-.94-2.06-.94 2.06-2.06.94zm-11 1L8.5 8.5l.94-2.06 2.06-.94-2.06-.94L8.5 2.5l-.94 2.06-2.06.94zm10 10l.94 2.06.94-2.06 2.06-.94-2.06-.94-.94-2.06-.94 2.06-2.06.94z\"/><path d=\"M17.41 7.96l-1.37-1.37c-.4-.4-.92-.59-1.43-.59-.52 0-1.04.2-1.43.59L10.3 9.45l-7.72 7.72c-.78.78-.78 2.05 0 2.83L4 21.41c.39.39.9.59 1.41.59.51 0 1.02-.2 1.41-.59l7.78-7.78 2.81-2.81c.8-.78.8-2.07 0-2.86zM5.41 20L4 18.59l7.72-7.72 1.47 1.35L5.41 20z\"/>\n",
              "  </svg>\n",
              "      </button>\n",
              "      \n",
              "  <style>\n",
              "    .colab-df-container {\n",
              "      display:flex;\n",
              "      flex-wrap:wrap;\n",
              "      gap: 12px;\n",
              "    }\n",
              "\n",
              "    .colab-df-convert {\n",
              "      background-color: #E8F0FE;\n",
              "      border: none;\n",
              "      border-radius: 50%;\n",
              "      cursor: pointer;\n",
              "      display: none;\n",
              "      fill: #1967D2;\n",
              "      height: 32px;\n",
              "      padding: 0 0 0 0;\n",
              "      width: 32px;\n",
              "    }\n",
              "\n",
              "    .colab-df-convert:hover {\n",
              "      background-color: #E2EBFA;\n",
              "      box-shadow: 0px 1px 2px rgba(60, 64, 67, 0.3), 0px 1px 3px 1px rgba(60, 64, 67, 0.15);\n",
              "      fill: #174EA6;\n",
              "    }\n",
              "\n",
              "    [theme=dark] .colab-df-convert {\n",
              "      background-color: #3B4455;\n",
              "      fill: #D2E3FC;\n",
              "    }\n",
              "\n",
              "    [theme=dark] .colab-df-convert:hover {\n",
              "      background-color: #434B5C;\n",
              "      box-shadow: 0px 1px 3px 1px rgba(0, 0, 0, 0.15);\n",
              "      filter: drop-shadow(0px 1px 2px rgba(0, 0, 0, 0.3));\n",
              "      fill: #FFFFFF;\n",
              "    }\n",
              "  </style>\n",
              "\n",
              "      <script>\n",
              "        const buttonEl =\n",
              "          document.querySelector('#df-56c08148-9ef9-4e74-96f3-7897340d4de7 button.colab-df-convert');\n",
              "        buttonEl.style.display =\n",
              "          google.colab.kernel.accessAllowed ? 'block' : 'none';\n",
              "\n",
              "        async function convertToInteractive(key) {\n",
              "          const element = document.querySelector('#df-56c08148-9ef9-4e74-96f3-7897340d4de7');\n",
              "          const dataTable =\n",
              "            await google.colab.kernel.invokeFunction('convertToInteractive',\n",
              "                                                     [key], {});\n",
              "          if (!dataTable) return;\n",
              "\n",
              "          const docLinkHtml = 'Like what you see? Visit the ' +\n",
              "            '<a target=\"_blank\" href=https://colab.research.google.com/notebooks/data_table.ipynb>data table notebook</a>'\n",
              "            + ' to learn more about interactive tables.';\n",
              "          element.innerHTML = '';\n",
              "          dataTable['output_type'] = 'display_data';\n",
              "          await google.colab.output.renderOutput(dataTable, element);\n",
              "          const docLink = document.createElement('div');\n",
              "          docLink.innerHTML = docLinkHtml;\n",
              "          element.appendChild(docLink);\n",
              "        }\n",
              "      </script>\n",
              "    </div>\n",
              "  </div>\n",
              "  "
            ]
          },
          "metadata": {},
          "execution_count": 20
        }
      ]
    },
    {
      "cell_type": "markdown",
      "source": [
        "### **Normalization/Scaling**\n",
        "\n",
        "The range of continuous features are different.\n",
        "Here, I am scaling them to be in-between 0 to 1 by dividing by the maximum value of the respective column"
      ],
      "metadata": {
        "id": "ZbZ6hEwi4rJy"
      }
    },
    {
      "cell_type": "code",
      "source": [
        "from sklearn.preprocessing import StandardScaler \n",
        "num_cols = ['BMI', 'PhysicalHealth']\n",
        "scaler = StandardScaler()\n",
        "heart_df[num_cols] = scaler.fit_transform(heart_df[num_cols])"
      ],
      "metadata": {
        "id": "noRMtwCD4pbt"
      },
      "execution_count": 21,
      "outputs": []
    },
    {
      "cell_type": "code",
      "source": [
        "heart_df.describe()[1:][['BMI','PhysicalHealth']].T.style.background_gradient(cmap='Blues')"
      ],
      "metadata": {
        "colab": {
          "base_uri": "https://localhost:8080/",
          "height": 112
        },
        "id": "b9B5IeFOftXL",
        "outputId": "67b41b15-0030-415c-f681-7d2653edae74"
      },
      "execution_count": 22,
      "outputs": [
        {
          "output_type": "execute_result",
          "data": {
            "text/plain": [
              "<pandas.io.formats.style.Styler at 0x7f9c4f192f10>"
            ],
            "text/html": [
              "<style type=\"text/css\">\n",
              "#T_4d03a_row0_col0, #T_4d03a_row0_col1, #T_4d03a_row0_col4, #T_4d03a_row0_col5, #T_4d03a_row0_col6, #T_4d03a_row1_col2, #T_4d03a_row1_col3 {\n",
              "  background-color: #08306b;\n",
              "  color: #f1f1f1;\n",
              "}\n",
              "#T_4d03a_row0_col2, #T_4d03a_row0_col3, #T_4d03a_row1_col0, #T_4d03a_row1_col1, #T_4d03a_row1_col4, #T_4d03a_row1_col5, #T_4d03a_row1_col6 {\n",
              "  background-color: #f7fbff;\n",
              "  color: #000000;\n",
              "}\n",
              "</style>\n",
              "<table id=\"T_4d03a_\" class=\"dataframe\">\n",
              "  <thead>\n",
              "    <tr>\n",
              "      <th class=\"blank level0\" >&nbsp;</th>\n",
              "      <th class=\"col_heading level0 col0\" >mean</th>\n",
              "      <th class=\"col_heading level0 col1\" >std</th>\n",
              "      <th class=\"col_heading level0 col2\" >min</th>\n",
              "      <th class=\"col_heading level0 col3\" >25%</th>\n",
              "      <th class=\"col_heading level0 col4\" >50%</th>\n",
              "      <th class=\"col_heading level0 col5\" >75%</th>\n",
              "      <th class=\"col_heading level0 col6\" >max</th>\n",
              "    </tr>\n",
              "  </thead>\n",
              "  <tbody>\n",
              "    <tr>\n",
              "      <th id=\"T_4d03a_level0_row0\" class=\"row_heading level0 row0\" >BMI</th>\n",
              "      <td id=\"T_4d03a_row0_col0\" class=\"data row0 col0\" >0.000000</td>\n",
              "      <td id=\"T_4d03a_row0_col1\" class=\"data row0 col1\" >1.000009</td>\n",
              "      <td id=\"T_4d03a_row0_col2\" class=\"data row0 col2\" >-2.573955</td>\n",
              "      <td id=\"T_4d03a_row0_col3\" class=\"data row0 col3\" >-0.682142</td>\n",
              "      <td id=\"T_4d03a_row0_col4\" class=\"data row0 col4\" >-0.162125</td>\n",
              "      <td id=\"T_4d03a_row0_col5\" class=\"data row0 col5\" >0.495226</td>\n",
              "      <td id=\"T_4d03a_row0_col6\" class=\"data row0 col6\" >8.948204</td>\n",
              "    </tr>\n",
              "    <tr>\n",
              "      <th id=\"T_4d03a_level0_row1\" class=\"row_heading level0 row1\" >PhysicalHealth</th>\n",
              "      <td id=\"T_4d03a_row1_col0\" class=\"data row1 col0\" >-0.000000</td>\n",
              "      <td id=\"T_4d03a_row1_col1\" class=\"data row1 col1\" >1.000009</td>\n",
              "      <td id=\"T_4d03a_row1_col2\" class=\"data row1 col2\" >-0.538968</td>\n",
              "      <td id=\"T_4d03a_row1_col3\" class=\"data row1 col3\" >-0.538968</td>\n",
              "      <td id=\"T_4d03a_row1_col4\" class=\"data row1 col4\" >-0.538968</td>\n",
              "      <td id=\"T_4d03a_row1_col5\" class=\"data row1 col5\" >-0.036554</td>\n",
              "      <td id=\"T_4d03a_row1_col6\" class=\"data row1 col6\" >2.475512</td>\n",
              "    </tr>\n",
              "  </tbody>\n",
              "</table>\n"
            ]
          },
          "metadata": {},
          "execution_count": 22
        }
      ]
    },
    {
      "cell_type": "code",
      "source": [
        "heart_df = heart_df.drop(columns = ['heartdisease_GenHealth', 'mean_PhysicalHealth','BMI_Std',])"
      ],
      "metadata": {
        "id": "M9cO5QZFIjU-"
      },
      "execution_count": 23,
      "outputs": []
    },
    {
      "cell_type": "code",
      "source": [
        "#Select Features\n",
        "features = heart_df.drop(columns =['HeartDisease'], axis = 1)\n",
        "#Select Target \n",
        "target = heart_df['HeartDisease']\n",
        "# Set Training and Testing Data\n",
        "from sklearn.model_selection import train_test_split\n"
      ],
      "metadata": {
        "id": "5tvSmGvnD_kE"
      },
      "execution_count": 24,
      "outputs": []
    },
    {
      "cell_type": "code",
      "source": [
        "high = len(heart_df['HeartDisease']) - sum(heart_df['HeartDisease'])\n",
        "print(\"Baseline accuracy : \",high/len(heart_df['HeartDisease']))"
      ],
      "metadata": {
        "colab": {
          "base_uri": "https://localhost:8080/"
        },
        "id": "G33nG-fQq66i",
        "outputId": "2b8e3ef4-9aa4-4f47-fdac-6a16b38470a3"
      },
      "execution_count": 25,
      "outputs": [
        {
          "output_type": "stream",
          "name": "stdout",
          "text": [
            "Baseline accuracy :  0.5\n"
          ]
        }
      ]
    },
    {
      "cell_type": "code",
      "source": [
        "from sklearn import metrics"
      ],
      "metadata": {
        "id": "Mc7uLgbtmLMt"
      },
      "execution_count": 26,
      "outputs": []
    },
    {
      "cell_type": "markdown",
      "source": [
        "Linear Regression"
      ],
      "metadata": {
        "id": "OmEme14NpPMS"
      }
    },
    {
      "cell_type": "code",
      "source": [
        "X_train, X_test, y_train, y_test = train_test_split(features, target, test_size = 0.1, random_state=33)"
      ],
      "metadata": {
        "id": "WCQBITpw8Xa_"
      },
      "execution_count": 62,
      "outputs": []
    },
    {
      "cell_type": "code",
      "source": [
        "# plot impact of logloss for single forecasts\n",
        "from sklearn.metrics import log_loss\n",
        "lin_reg = LinearRegression()\n",
        "lin_reg.fit(X_train, y_train)\n",
        "lin_reg_pred = lin_reg.predict(X_test)\n",
        "score = lin_reg.score(X_test,y_test)\n",
        "\n",
        "print(\"Linear Regression Accuracy\",score)"
      ],
      "metadata": {
        "colab": {
          "base_uri": "https://localhost:8080/"
        },
        "id": "y7VN23NjomBG",
        "outputId": "fa9a1802-34bd-40a9-86e0-62f85ea95355"
      },
      "execution_count": 61,
      "outputs": [
        {
          "output_type": "stream",
          "name": "stdout",
          "text": [
            "Linear Regression Accuracy 0.3319457969522649\n"
          ]
        }
      ]
    },
    {
      "cell_type": "code",
      "source": [
        "from yellowbrick.regressor import ResidualsPlot\n",
        "visual = ResidualsPlot(lin_reg)\n",
        "visual.fit(X_train,y_train)\n",
        "visual.score(X_test,y_test)\n",
        "visual.poof()"
      ],
      "metadata": {
        "colab": {
          "base_uri": "https://localhost:8080/",
          "height": 428
        },
        "id": "f_Hm_ubMhbg7",
        "outputId": "91b7fbf2-f9ab-416e-86c9-1496f21b5a3e"
      },
      "execution_count": 30,
      "outputs": [
        {
          "output_type": "stream",
          "name": "stderr",
          "text": [
            "/usr/local/lib/python3.7/dist-packages/sklearn/base.py:451: UserWarning: X does not have valid feature names, but LinearRegression was fitted with feature names\n",
            "  \"X does not have valid feature names, but\"\n"
          ]
        },
        {
          "output_type": "display_data",
          "data": {
            "text/plain": [
              "<Figure size 576x396 with 2 Axes>"
            ],
            "image/png": "[encoded data removed]"
          },
          "metadata": {}
        },
        {
          "output_type": "execute_result",
          "data": {
            "text/plain": [
              "<AxesSubplot:title={'center':'Residuals for LinearRegression Model'}, xlabel='Predicted Value', ylabel='Residuals'>"
            ]
          },
          "metadata": {},
          "execution_count": 30
        }
      ]
    },
    {
      "cell_type": "markdown",
      "source": [
        "Decision Tree"
      ],
      "metadata": {
        "id": "V6ZW06P4pSeL"
      }
    },
    {
      "cell_type": "code",
      "source": [
        "dt_clf = DecisionTreeClassifier(max_depth=4)\n",
        "dt_clf.fit(X_train, y_train)\n",
        "dt_pred = dt_clf.predict(X_test)\n",
        "dt_acc = metrics.accuracy_score(y_test, dt_pred)\n",
        "print(\"Decision Tree Accuracy\",100*dt_acc)"
      ],
      "metadata": {
        "colab": {
          "base_uri": "https://localhost:8080/"
        },
        "id": "QB4Gl5KXpG_6",
        "outputId": "54a51592-2ee4-4f61-9958-bb6aeefb3297"
      },
      "execution_count": 63,
      "outputs": [
        {
          "output_type": "stream",
          "name": "stdout",
          "text": [
            "Decision Tree Accuracy 72.94977168949772\n"
          ]
        }
      ]
    },
    {
      "cell_type": "code",
      "source": [
        "con_matrix = confusion_matrix(y_test,dt_pred)\n",
        "sns.heatmap(con_matrix,annot=True,fmt=\"d\") \n",
        "plt.show()"
      ],
      "metadata": {
        "colab": {
          "base_uri": "https://localhost:8080/",
          "height": 347
        },
        "id": "it8V8DfYma7t",
        "outputId": "85079e69-2c8c-498c-b7d8-f34687b0280d"
      },
      "execution_count": 53,
      "outputs": [
        {
          "output_type": "display_data",
          "data": {
            "text/plain": [
              "<Figure size 576x396 with 2 Axes>"
            ],
            "image/png": "[encoded data removed]"
          },
          "metadata": {}
        }
      ]
    },
    {
      "cell_type": "code",
      "source": [
        ""
      ],
      "metadata": {
        "id": "LzxmyGopUg8I"
      },
      "execution_count": null,
      "outputs": []
    },
    {
      "cell_type": "code",
      "source": [
        "size = 0.1\n",
        "accuracy_list=[]\n",
        "dataset_ratio = []\n",
        "for i in range(1,10):\n",
        "  print('Test set size: ',(size))\n",
        "  index = int((i/10)*len(new_df['HeartDisease']))\n",
        "  X_train, X_test, y_train, y_test = train_test_split(features, target, test_size = (i/10), random_state=100)\n",
        "  dt_clf1 = DecisionTreeClassifier()\n",
        "  dt_clf1.fit(X_train, y_train)\n",
        "  dt_pred = dt_clf1.predict(X_test)\n",
        "  dt_acc1 = metrics.accuracy_score(y_test, dt_pred)\n",
        "  accuracy_list.append(100*dt_acc1)\n",
        "  print(\"Accuracy: \",100*dt_acc1)\n",
        "  size = round(size, 1)\n",
        "  dataset_ratio.append(str(i/10)+'%')\n",
        "  size = round((size+0.1), 1)"
      ],
      "metadata": {
        "colab": {
          "base_uri": "https://localhost:8080/"
        },
        "id": "igFCCMr2lRgl",
        "outputId": "1cdd9b7c-62bb-4fd0-f70f-9b0e0797ae3f"
      },
      "execution_count": 55,
      "outputs": [
        {
          "output_type": "stream",
          "name": "stdout",
          "text": [
            "Test set size:  0.1\n",
            "Accuracy:  68.18264840182648\n",
            "Test set size:  0.2\n",
            "Accuracy:  68.80365296803653\n",
            "Test set size:  0.3\n",
            "Accuracy:  68.11373599610326\n",
            "Test set size:  0.4\n",
            "Accuracy:  67.6743230284488\n",
            "Test set size:  0.5\n",
            "Accuracy:  67.58849961641033\n",
            "Test set size:  0.6\n",
            "Accuracy:  67.07866536775451\n",
            "Test set size:  0.7\n",
            "Accuracy:  67.15027529160035\n",
            "Test set size:  0.8\n",
            "Accuracy:  66.76713016873302\n",
            "Test set size:  0.9\n",
            "Accuracy:  66.39673648319533\n"
          ]
        }
      ]
    },
    {
      "cell_type": "markdown",
      "source": [
        "do sampling "
      ],
      "metadata": {
        "id": "Pa-tBMv4tFO4"
      }
    },
    {
      "cell_type": "code",
      "source": [
        "g = sns.barplot(x = dataset_ratio, y=accuracy_list)\n",
        "g.set_ylim(65,70)"
      ],
      "metadata": {
        "colab": {
          "base_uri": "https://localhost:8080/",
          "height": 368
        },
        "id": "SMG4qfjVnV_k",
        "outputId": "ffc506cb-6477-4895-811b-7ea3dba8546e"
      },
      "execution_count": 57,
      "outputs": [
        {
          "output_type": "execute_result",
          "data": {
            "text/plain": [
              "(65.0, 70.0)"
            ]
          },
          "metadata": {},
          "execution_count": 57
        },
        {
          "output_type": "display_data",
          "data": {
            "text/plain": [
              "<Figure size 576x396 with 1 Axes>"
            ],
            "image/png": "[encoded data removed]"
          },
          "metadata": {}
        }
      ]
    },
    {
      "cell_type": "markdown",
      "source": [
        "For our conclusion, this dataset does not suitable for classification in Heart Disease cause data overlapping, unbalanced data, low correlation and a lot of outliers.One single feature might not say much but combinations might say more than that! I will perform this in another notebook"
      ],
      "metadata": {
        "id": "ApAvUE9zw_ks"
      }
    },
    {
      "cell_type": "code",
      "source": [
        "from sklearn import tree"
      ],
      "metadata": {
        "id": "2P4h4ayjleaw"
      },
      "execution_count": 45,
      "outputs": []
    },
    {
      "cell_type": "code",
      "source": [
        "fig = plt.figure(figsize=(25,25))\n",
        "v = tree.plot_tree(dt_clf, \n",
        "                   feature_names=features.columns,  \n",
        "                   class_names=['Yes', 'No'],\n",
        "                   filled=True)"
      ],
      "metadata": {
        "colab": {
          "base_uri": "https://localhost:8080/",
          "height": 1000
        },
        "id": "KB8ngst_eZnD",
        "outputId": "16a0cf43-5933-4dc2-b525-d6a04b28f6ea"
      },
      "execution_count": 46,
      "outputs": [
        {
          "output_type": "display_data",
          "data": {
            "text/plain": [
              "<Figure size 1800x1800 with 1 Axes>"
            ],
            "image/png": "[encoded data removed]"
          },
          "metadata": {}
        }
      ]
    }
  ]
}